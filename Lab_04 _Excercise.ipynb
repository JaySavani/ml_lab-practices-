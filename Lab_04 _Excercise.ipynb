{
  "nbformat": 4,
  "nbformat_minor": 0,
  "metadata": {
    "colab": {
      "provenance": []
    },
    "kernelspec": {
      "name": "python3",
      "display_name": "Python 3"
    },
    "language_info": {
      "name": "python"
    }
  },
  "cells": [
    {
      "cell_type": "code",
      "execution_count": null,
      "metadata": {
        "id": "M1A7_XzYwiTS"
      },
      "outputs": [],
      "source": [
        "# Import Numpy & PyTorch\n",
        "import numpy as np\n",
        "import torch"
      ]
    },
    {
      "cell_type": "code",
      "source": [
        "# Input (temp, rainfall, humidity)\n",
        "inputs = np.array([[73, 67, 43],\n",
        "                   [91, 88, 64],\n",
        "                   [87, 134, 58],\n",
        "                   [102, 43, 37],\n",
        "                   [69, 96, 70]], dtype='float32')\n",
        "\n",
        "# Target (apples)\n",
        "targets = np.array([[56],\n",
        "                    [81],\n",
        "                    [119],\n",
        "                    [22],\n",
        "                    [103]], dtype='float32')"
      ],
      "metadata": {
        "id": "lV7uFEp7zr6-"
      },
      "execution_count": null,
      "outputs": []
    },
    {
      "cell_type": "code",
      "source": [
        "# Convert inputs and targets to tensors\n",
        "\n",
        "inputs_t = torch.from_numpy(inputs)\n",
        "targets_t = torch.from_numpy(targets)\n",
        "\n",
        "print(inputs_t)\n",
        "print(targets_t)"
      ],
      "metadata": {
        "colab": {
          "base_uri": "https://localhost:8080/"
        },
        "id": "LFJqhdPawuSH",
        "outputId": "08d59d93-36fd-4c0f-f9d5-563d070f11d1"
      },
      "execution_count": null,
      "outputs": [
        {
          "output_type": "stream",
          "name": "stdout",
          "text": [
            "tensor([[ 73.,  67.,  43.],\n",
            "        [ 91.,  88.,  64.],\n",
            "        [ 87., 134.,  58.],\n",
            "        [102.,  43.,  37.],\n",
            "        [ 69.,  96.,  70.]])\n",
            "tensor([[ 56.],\n",
            "        [ 81.],\n",
            "        [119.],\n",
            "        [ 22.],\n",
            "        [103.]])\n"
          ]
        }
      ]
    },
    {
      "cell_type": "markdown",
      "source": [
        "**3.2 Linear Regression Model (from scratch)**"
      ],
      "metadata": {
        "id": "STCDrNPi9-Mt"
      }
    },
    {
      "cell_type": "code",
      "source": [
        "# Weights and biases\n",
        "Weights = torch.randn(3, 1, requires_grad=True)\n",
        "biases = torch.randn(1, requires_grad=True)\n",
        "print(Weights)\n",
        "print(biases)"
      ],
      "metadata": {
        "colab": {
          "base_uri": "https://localhost:8080/"
        },
        "id": "cA3rWllh0cot",
        "outputId": "597cfa4d-9e70-495f-e60e-e485eea2a3c2"
      },
      "execution_count": null,
      "outputs": [
        {
          "output_type": "stream",
          "name": "stdout",
          "text": [
            "tensor([[-1.1960],\n",
            "        [ 0.2496],\n",
            "        [-0.9904]], requires_grad=True)\n",
            "tensor([-0.1791], requires_grad=True)\n"
          ]
        }
      ]
    },
    {
      "cell_type": "code",
      "source": [
        "# Define the model\n",
        "def model(x):\n",
        "    return x @ Weights + biases"
      ],
      "metadata": {
        "id": "itsLbg2x30E0"
      },
      "execution_count": null,
      "outputs": []
    },
    {
      "cell_type": "code",
      "source": [
        "# Generate predictions\n",
        "pred = model(inputs_t)\n",
        "pred"
      ],
      "metadata": {
        "colab": {
          "base_uri": "https://localhost:8080/"
        },
        "id": "aymv-vRu7_Kt",
        "outputId": "3bd5bea5-9788-4a7e-ba71-152a39a0656f"
      },
      "execution_count": null,
      "outputs": [
        {
          "output_type": "execute_result",
          "data": {
            "text/plain": [
              "tensor([[-113.3490],\n",
              "        [-150.4336],\n",
              "        [-128.2250],\n",
              "        [-148.0801],\n",
              "        [-128.0681]], grad_fn=<AddBackward0>)"
            ]
          },
          "metadata": {},
          "execution_count": 240
        }
      ]
    },
    {
      "cell_type": "code",
      "source": [
        "# Compare with targets\n",
        "print(targets_t)"
      ],
      "metadata": {
        "colab": {
          "base_uri": "https://localhost:8080/"
        },
        "id": "k_x4lN-U8iZW",
        "outputId": "ec53cba3-347a-45ab-f169-43b702ec24a0"
      },
      "execution_count": null,
      "outputs": [
        {
          "output_type": "stream",
          "name": "stdout",
          "text": [
            "tensor([[ 56.],\n",
            "        [ 81.],\n",
            "        [119.],\n",
            "        [ 22.],\n",
            "        [103.]])\n"
          ]
        }
      ]
    },
    {
      "cell_type": "markdown",
      "source": [
        "**3.3 Loss Function**"
      ],
      "metadata": {
        "id": "YEKKR7Kn-AlE"
      }
    },
    {
      "cell_type": "code",
      "source": [
        "# MSE loss\n",
        "def mse(t1, t2):\n",
        "    diff = t1 - t2\n",
        "    return torch.sum(diff * diff) / diff.numel()"
      ],
      "metadata": {
        "id": "A5qmobVv8iYc"
      },
      "execution_count": null,
      "outputs": []
    },
    {
      "cell_type": "code",
      "source": [
        "# Compute \n",
        "\n",
        "loss = mse(pred, targets_t)\n",
        "print(loss)"
      ],
      "metadata": {
        "colab": {
          "base_uri": "https://localhost:8080/"
        },
        "id": "lphXveOW-LBe",
        "outputId": "46bbac1c-c151-457f-b9ad-b8ee1ff1f9a8"
      },
      "execution_count": null,
      "outputs": [
        {
          "output_type": "stream",
          "name": "stdout",
          "text": [
            "tensor(45136.1016, grad_fn=<DivBackward0>)\n"
          ]
        }
      ]
    },
    {
      "cell_type": "markdown",
      "source": [
        "**3.4 Compute Gradients**"
      ],
      "metadata": {
        "id": "1iFWL-RS-xJM"
      }
    },
    {
      "cell_type": "code",
      "source": [
        "# Compute gradients\n",
        "loss.backward()"
      ],
      "metadata": {
        "id": "7--AJ8zh-LAU"
      },
      "execution_count": null,
      "outputs": []
    },
    {
      "cell_type": "code",
      "source": [
        "# Gradients for weights\n",
        "print(Weights)\n",
        "print(Weights.grad)"
      ],
      "metadata": {
        "colab": {
          "base_uri": "https://localhost:8080/"
        },
        "id": "jC66vkX7BE3d",
        "outputId": "568cc431-b55e-4ad1-e2e4-603dc51ebc39"
      },
      "execution_count": null,
      "outputs": [
        {
          "output_type": "stream",
          "name": "stdout",
          "text": [
            "tensor([[-1.1960],\n",
            "        [ 0.2496],\n",
            "        [-0.9904]], requires_grad=True)\n",
            "tensor([[-35289.3516],\n",
            "        [-37734.6680],\n",
            "        [-23560.2148]])\n"
          ]
        }
      ]
    },
    {
      "cell_type": "code",
      "source": [
        "# Gradients for bias\n",
        "print(biases)\n",
        "print(biases.grad)"
      ],
      "metadata": {
        "colab": {
          "base_uri": "https://localhost:8080/"
        },
        "id": "kj2tyljYBL09",
        "outputId": "20b45399-0cd0-4ec0-fae9-4ea1cf3c950a"
      },
      "execution_count": null,
      "outputs": [
        {
          "output_type": "stream",
          "name": "stdout",
          "text": [
            "tensor([-0.1791], requires_grad=True)\n",
            "tensor([-419.6623])\n"
          ]
        }
      ]
    },
    {
      "cell_type": "code",
      "source": [
        "Weights.grad.zero_()\n",
        "biases.grad.zero_()\n",
        "print(Weights.grad)\n",
        "print(biases.grad)"
      ],
      "metadata": {
        "colab": {
          "base_uri": "https://localhost:8080/"
        },
        "id": "Zfhv8I5lBnc0",
        "outputId": "3b29d8bd-9e95-46e6-9d6a-e7ad3a16529b"
      },
      "execution_count": null,
      "outputs": [
        {
          "output_type": "stream",
          "name": "stdout",
          "text": [
            "tensor([[0.],\n",
            "        [0.],\n",
            "        [0.]])\n",
            "tensor([0.])\n"
          ]
        }
      ]
    },
    {
      "cell_type": "markdown",
      "source": [
        "**3.5 Adjust weights and biases using gradient descent**"
      ],
      "metadata": {
        "id": "M0uam0RXB3G1"
      }
    },
    {
      "cell_type": "code",
      "source": [
        "# Generate predictions\n",
        "pred = model(inputs_t)\n",
        "print(pred)"
      ],
      "metadata": {
        "colab": {
          "base_uri": "https://localhost:8080/"
        },
        "id": "KsMGas66B0ik",
        "outputId": "63fefc70-cfde-4c6c-bf58-481d4d957295"
      },
      "execution_count": null,
      "outputs": [
        {
          "output_type": "stream",
          "name": "stdout",
          "text": [
            "tensor([[-113.3490],\n",
            "        [-150.4336],\n",
            "        [-128.2250],\n",
            "        [-148.0801],\n",
            "        [-128.0681]], grad_fn=<AddBackward0>)\n"
          ]
        }
      ]
    },
    {
      "cell_type": "code",
      "source": [
        "# Calculate the loss\n",
        "loss = mse(pred, targets_t)\n",
        "print(loss)"
      ],
      "metadata": {
        "colab": {
          "base_uri": "https://localhost:8080/"
        },
        "id": "dQticWPqCATc",
        "outputId": "452b71f0-b98c-42d2-9658-97969b6aad00"
      },
      "execution_count": null,
      "outputs": [
        {
          "output_type": "stream",
          "name": "stdout",
          "text": [
            "tensor(45136.1016, grad_fn=<DivBackward0>)\n"
          ]
        }
      ]
    },
    {
      "cell_type": "code",
      "source": [
        "# Compute gradients\n",
        "print(Weights.grad)\n",
        "print(biases.grad)"
      ],
      "metadata": {
        "colab": {
          "base_uri": "https://localhost:8080/"
        },
        "id": "LoITSFJRCSTY",
        "outputId": "7a360dc6-7578-4c7c-f630-a0139021b976"
      },
      "execution_count": null,
      "outputs": [
        {
          "output_type": "stream",
          "name": "stdout",
          "text": [
            "tensor([[0.],\n",
            "        [0.],\n",
            "        [0.]])\n",
            "tensor([0.])\n"
          ]
        }
      ]
    },
    {
      "cell_type": "code",
      "source": [
        "# Adjust weights & reset gradients\n",
        "with torch.no_grad():\n",
        "    Weights -= Weights.grad * 1e-5\n",
        "    biases -= biases.grad * 1e-5\n",
        "    Weights.grad.zero_()\n",
        "    biases.grad.zero_()"
      ],
      "metadata": {
        "id": "wgjX6jEBCfJz"
      },
      "execution_count": null,
      "outputs": []
    },
    {
      "cell_type": "code",
      "source": [
        "print(Weights)\n",
        "print(biases)"
      ],
      "metadata": {
        "colab": {
          "base_uri": "https://localhost:8080/"
        },
        "id": "AJXDusUbC-IM",
        "outputId": "59902828-3921-4e74-f688-5d8063df278d"
      },
      "execution_count": null,
      "outputs": [
        {
          "output_type": "stream",
          "name": "stdout",
          "text": [
            "tensor([[-1.1960],\n",
            "        [ 0.2496],\n",
            "        [-0.9904]], requires_grad=True)\n",
            "tensor([-0.1791], requires_grad=True)\n"
          ]
        }
      ]
    },
    {
      "cell_type": "code",
      "source": [
        "# Calculate loss\n",
        "pred = model(inputs_t)\n",
        "loss = mse(pred, targets_t)\n",
        "print(loss)"
      ],
      "metadata": {
        "colab": {
          "base_uri": "https://localhost:8080/"
        },
        "id": "Sd_tUkVLDDZd",
        "outputId": "cd219667-b946-44f0-871b-13f06b1aa50b"
      },
      "execution_count": null,
      "outputs": [
        {
          "output_type": "stream",
          "name": "stdout",
          "text": [
            "tensor(45136.1016, grad_fn=<DivBackward0>)\n"
          ]
        }
      ]
    },
    {
      "cell_type": "markdown",
      "source": [
        "**3.6 Train for multiple epochs**"
      ],
      "metadata": {
        "id": "XTrVzsdpDkoc"
      }
    },
    {
      "cell_type": "code",
      "source": [
        "# Train for 100 epochs\n",
        "for i in range(160):\n",
        "    pred = model(inputs_t)\n",
        "    loss = mse(pred, targets_t)\n",
        "    loss.backward()\n",
        "    with torch.no_grad():\n",
        "        Weights -= Weights.grad * 1e-5\n",
        "        biases -= biases.grad * 1e-5\n",
        "        Weights.grad.zero_()\n",
        "        biases.grad.zero_()"
      ],
      "metadata": {
        "id": "5shlzXwaDO5D"
      },
      "execution_count": null,
      "outputs": []
    },
    {
      "cell_type": "code",
      "source": [
        "# Calculate loss\n",
        "pred = model(inputs_t)\n",
        "loss = mse(pred, targets_t)\n",
        "print(loss)"
      ],
      "metadata": {
        "colab": {
          "base_uri": "https://localhost:8080/"
        },
        "id": "SV9Bd429D2EL",
        "outputId": "f8f2da04-415a-4803-9d95-2967ab46bcb5"
      },
      "execution_count": null,
      "outputs": [
        {
          "output_type": "stream",
          "name": "stdout",
          "text": [
            "tensor(67.4198, grad_fn=<DivBackward0>)\n"
          ]
        }
      ]
    },
    {
      "cell_type": "code",
      "source": [
        "# Predictions\n",
        "pred"
      ],
      "metadata": {
        "colab": {
          "base_uri": "https://localhost:8080/"
        },
        "id": "dDHVVWZAEDqk",
        "outputId": "d2115760-7944-4dca-fabd-926655019ba7"
      },
      "execution_count": null,
      "outputs": [
        {
          "output_type": "execute_result",
          "data": {
            "text/plain": [
              "tensor([[ 57.7410],\n",
              "        [ 76.4064],\n",
              "        [130.9590],\n",
              "        [ 23.9668],\n",
              "        [ 90.1128]], grad_fn=<AddBackward0>)"
            ]
          },
          "metadata": {},
          "execution_count": 256
        }
      ]
    },
    {
      "cell_type": "code",
      "source": [
        "# Targets\n",
        "targets_t"
      ],
      "metadata": {
        "colab": {
          "base_uri": "https://localhost:8080/"
        },
        "id": "zntxCPCDEE57",
        "outputId": "e1a31bec-243f-460a-f66a-3dec33ded119"
      },
      "execution_count": null,
      "outputs": [
        {
          "output_type": "execute_result",
          "data": {
            "text/plain": [
              "tensor([[ 56.],\n",
              "        [ 81.],\n",
              "        [119.],\n",
              "        [ 22.],\n",
              "        [103.]])"
            ]
          },
          "metadata": {},
          "execution_count": 257
        }
      ]
    },
    {
      "cell_type": "markdown",
      "source": [
        "**1.1 Linear Regression Model using PyTorch built-ins**"
      ],
      "metadata": {
        "id": "axZy17It6Vo8"
      }
    },
    {
      "cell_type": "code",
      "source": [
        "# Imports\n",
        "import torch.nn as nn\n",
        "import torch\n",
        "import numpy as np"
      ],
      "metadata": {
        "id": "cpyEDa5k6XTl"
      },
      "execution_count": null,
      "outputs": []
    },
    {
      "cell_type": "code",
      "source": [
        "# Input (temp, rainfall, humidity)\n",
        "\n",
        "inputs = np.array([[73, 67, 43], [91, 88, 64], [87, 134, 58], [102, 43, 37],[69, 96, 70],\n",
        "                   [73, 67, 43], [91, 88, 64], [87, 134, 58], [102, 43, 37], [69,96, 70],\n",
        "                   [73, 67, 43], [91, 88, 64], [87, 134, 58], [102, 43, 37], [69, 96,70]], dtype='float32')\n",
        "\n",
        "# Targets (apples, oranges)\n",
        "targets = np.array([[56, 70], [81, 101], [119, 133], [22, 37], [103, 119],\n",
        "                    [56, 70], [81, 101], [119, 133], [22, 37], [103, 119],\n",
        "                    [56, 70], [81, 101], [119, 133], [22, 37], [103, 119]],dtype='float32')\n",
        "\n",
        "inputs = torch.from_numpy(inputs)\n",
        "targets = torch.from_numpy(targets)"
      ],
      "metadata": {
        "id": "sr7T8pZn6cGC"
      },
      "execution_count": null,
      "outputs": []
    },
    {
      "cell_type": "code",
      "source": [
        "inputs"
      ],
      "metadata": {
        "colab": {
          "base_uri": "https://localhost:8080/"
        },
        "id": "QGUWwOQa7DGS",
        "outputId": "f78e1ad3-252d-43e7-e9ea-23dfe535bc70"
      },
      "execution_count": null,
      "outputs": [
        {
          "output_type": "execute_result",
          "data": {
            "text/plain": [
              "tensor([[ 73.,  67.,  43.],\n",
              "        [ 91.,  88.,  64.],\n",
              "        [ 87., 134.,  58.],\n",
              "        [102.,  43.,  37.],\n",
              "        [ 69.,  96.,  70.],\n",
              "        [ 73.,  67.,  43.],\n",
              "        [ 91.,  88.,  64.],\n",
              "        [ 87., 134.,  58.],\n",
              "        [102.,  43.,  37.],\n",
              "        [ 69.,  96.,  70.],\n",
              "        [ 73.,  67.,  43.],\n",
              "        [ 91.,  88.,  64.],\n",
              "        [ 87., 134.,  58.],\n",
              "        [102.,  43.,  37.],\n",
              "        [ 69.,  96.,  70.]])"
            ]
          },
          "metadata": {},
          "execution_count": 260
        }
      ]
    },
    {
      "cell_type": "code",
      "source": [
        "targets"
      ],
      "metadata": {
        "colab": {
          "base_uri": "https://localhost:8080/"
        },
        "id": "Ac-gR-aw7O6s",
        "outputId": "c40437e9-b8be-4f81-b14f-3e110e32f742"
      },
      "execution_count": null,
      "outputs": [
        {
          "output_type": "execute_result",
          "data": {
            "text/plain": [
              "tensor([[ 56.,  70.],\n",
              "        [ 81., 101.],\n",
              "        [119., 133.],\n",
              "        [ 22.,  37.],\n",
              "        [103., 119.],\n",
              "        [ 56.,  70.],\n",
              "        [ 81., 101.],\n",
              "        [119., 133.],\n",
              "        [ 22.,  37.],\n",
              "        [103., 119.],\n",
              "        [ 56.,  70.],\n",
              "        [ 81., 101.],\n",
              "        [119., 133.],\n",
              "        [ 22.,  37.],\n",
              "        [103., 119.]])"
            ]
          },
          "metadata": {},
          "execution_count": 261
        }
      ]
    },
    {
      "cell_type": "code",
      "source": [
        "# Import tensor dataset & data loader\n",
        "from torch.utils.data import TensorDataset, DataLoader"
      ],
      "metadata": {
        "id": "tLR-rRNq7Q-C"
      },
      "execution_count": null,
      "outputs": []
    },
    {
      "cell_type": "code",
      "source": [
        "# Define dataset\n",
        "train_ds = TensorDataset(inputs, targets)\n",
        "train_ds[:]"
      ],
      "metadata": {
        "colab": {
          "base_uri": "https://localhost:8080/"
        },
        "id": "Ne4ROjzX7Udw",
        "outputId": "d96145d7-52f6-49fb-e64c-966360699f2f"
      },
      "execution_count": null,
      "outputs": [
        {
          "output_type": "execute_result",
          "data": {
            "text/plain": [
              "(tensor([[ 73.,  67.,  43.],\n",
              "         [ 91.,  88.,  64.],\n",
              "         [ 87., 134.,  58.],\n",
              "         [102.,  43.,  37.],\n",
              "         [ 69.,  96.,  70.],\n",
              "         [ 73.,  67.,  43.],\n",
              "         [ 91.,  88.,  64.],\n",
              "         [ 87., 134.,  58.],\n",
              "         [102.,  43.,  37.],\n",
              "         [ 69.,  96.,  70.],\n",
              "         [ 73.,  67.,  43.],\n",
              "         [ 91.,  88.,  64.],\n",
              "         [ 87., 134.,  58.],\n",
              "         [102.,  43.,  37.],\n",
              "         [ 69.,  96.,  70.]]), tensor([[ 56.,  70.],\n",
              "         [ 81., 101.],\n",
              "         [119., 133.],\n",
              "         [ 22.,  37.],\n",
              "         [103., 119.],\n",
              "         [ 56.,  70.],\n",
              "         [ 81., 101.],\n",
              "         [119., 133.],\n",
              "         [ 22.,  37.],\n",
              "         [103., 119.],\n",
              "         [ 56.,  70.],\n",
              "         [ 81., 101.],\n",
              "         [119., 133.],\n",
              "         [ 22.,  37.],\n",
              "         [103., 119.]]))"
            ]
          },
          "metadata": {},
          "execution_count": 263
        }
      ]
    },
    {
      "cell_type": "code",
      "source": [
        "# Define data loader\n",
        "\n",
        "batch_size = 5\n",
        "train_dl = DataLoader(train_ds, batch_size, shuffle = True)\n",
        "\n",
        "for batch, (xb, yb) in enumerate(train_dl):\n",
        "    print(f'batch: {batch+1}')\n",
        "    print(xb)\n",
        "    print(yb)\n",
        "    print('='*40)"
      ],
      "metadata": {
        "colab": {
          "base_uri": "https://localhost:8080/"
        },
        "id": "uFm5BD6i7lB4",
        "outputId": "8951fa90-4131-45b8-bd84-2e49508dcac1"
      },
      "execution_count": null,
      "outputs": [
        {
          "output_type": "stream",
          "name": "stdout",
          "text": [
            "batch: 1\n",
            "tensor([[102.,  43.,  37.],\n",
            "        [ 69.,  96.,  70.],\n",
            "        [ 69.,  96.,  70.],\n",
            "        [102.,  43.,  37.],\n",
            "        [ 73.,  67.,  43.]])\n",
            "tensor([[ 22.,  37.],\n",
            "        [103., 119.],\n",
            "        [103., 119.],\n",
            "        [ 22.,  37.],\n",
            "        [ 56.,  70.]])\n",
            "========================================\n",
            "batch: 2\n",
            "tensor([[ 87., 134.,  58.],\n",
            "        [ 73.,  67.,  43.],\n",
            "        [ 73.,  67.,  43.],\n",
            "        [ 69.,  96.,  70.],\n",
            "        [ 91.,  88.,  64.]])\n",
            "tensor([[119., 133.],\n",
            "        [ 56.,  70.],\n",
            "        [ 56.,  70.],\n",
            "        [103., 119.],\n",
            "        [ 81., 101.]])\n",
            "========================================\n",
            "batch: 3\n",
            "tensor([[102.,  43.,  37.],\n",
            "        [ 87., 134.,  58.],\n",
            "        [ 91.,  88.,  64.],\n",
            "        [ 87., 134.,  58.],\n",
            "        [ 91.,  88.,  64.]])\n",
            "tensor([[ 22.,  37.],\n",
            "        [119., 133.],\n",
            "        [ 81., 101.],\n",
            "        [119., 133.],\n",
            "        [ 81., 101.]])\n",
            "========================================\n"
          ]
        }
      ]
    },
    {
      "cell_type": "code",
      "source": [
        "# Define model\n",
        "model = nn.Linear(3,2)\n",
        "print(model.weight)\n",
        "print(model.bias)"
      ],
      "metadata": {
        "colab": {
          "base_uri": "https://localhost:8080/"
        },
        "id": "6LagmDSK788f",
        "outputId": "a39a26e7-c55a-4530-fa9d-9ac5b441caf9"
      },
      "execution_count": null,
      "outputs": [
        {
          "output_type": "stream",
          "name": "stdout",
          "text": [
            "Parameter containing:\n",
            "tensor([[ 0.0245,  0.0972,  0.3993],\n",
            "        [ 0.5581, -0.2812,  0.3886]], requires_grad=True)\n",
            "Parameter containing:\n",
            "tensor([-0.0465, -0.4198], requires_grad=True)\n"
          ]
        }
      ]
    },
    {
      "cell_type": "code",
      "source": [
        "#Obtain Parameters\n",
        "list(model.parameters())"
      ],
      "metadata": {
        "colab": {
          "base_uri": "https://localhost:8080/"
        },
        "id": "45OPk35r9FhA",
        "outputId": "29a5d123-dab7-45b5-f375-4b6db079d0fe"
      },
      "execution_count": null,
      "outputs": [
        {
          "output_type": "execute_result",
          "data": {
            "text/plain": [
              "[Parameter containing:\n",
              " tensor([[ 0.0245,  0.0972,  0.3993],\n",
              "         [ 0.5581, -0.2812,  0.3886]], requires_grad=True),\n",
              " Parameter containing:\n",
              " tensor([-0.0465, -0.4198], requires_grad=True)]"
            ]
          },
          "metadata": {},
          "execution_count": 266
        }
      ]
    },
    {
      "cell_type": "code",
      "source": [
        "# prediction\n",
        "\n",
        "preds = model(inputs)\n",
        "preds"
      ],
      "metadata": {
        "colab": {
          "base_uri": "https://localhost:8080/"
        },
        "id": "zCvqujG89bDs",
        "outputId": "7a2857ea-9c81-47ec-9d0e-cd1fef3b4d9f"
      },
      "execution_count": null,
      "outputs": [
        {
          "output_type": "execute_result",
          "data": {
            "text/plain": [
              "tensor([[25.4265, 38.1959],\n",
              "        [36.2950, 50.4985],\n",
              "        [38.2726, 33.0013],\n",
              "        [21.4080, 58.7976],\n",
              "        [38.9297, 38.3021],\n",
              "        [25.4265, 38.1959],\n",
              "        [36.2950, 50.4985],\n",
              "        [38.2726, 33.0013],\n",
              "        [21.4080, 58.7976],\n",
              "        [38.9297, 38.3021],\n",
              "        [25.4265, 38.1959],\n",
              "        [36.2950, 50.4985],\n",
              "        [38.2726, 33.0013],\n",
              "        [21.4080, 58.7976],\n",
              "        [38.9297, 38.3021]], grad_fn=<AddmmBackward0>)"
            ]
          },
          "metadata": {},
          "execution_count": 267
        }
      ]
    },
    {
      "cell_type": "code",
      "source": [
        "# Loss \n",
        "\n",
        "# Import nn.functional\n",
        "import torch.nn.functional as F\n",
        "\n",
        "# Define loss function\n",
        "loss_fn = F.mse_loss\n",
        "\n",
        "# Calculate loss\n",
        "loss = loss_fn(model(inputs), targets)\n",
        "print(loss)"
      ],
      "metadata": {
        "colab": {
          "base_uri": "https://localhost:8080/"
        },
        "id": "j4lDRlJE9nG9",
        "outputId": "a12ea414-4201-48fd-958b-b5719031d446"
      },
      "execution_count": null,
      "outputs": [
        {
          "output_type": "stream",
          "name": "stdout",
          "text": [
            "tensor(3410.4470, grad_fn=<MseLossBackward0>)\n"
          ]
        }
      ]
    },
    {
      "cell_type": "code",
      "source": [
        "# Optimizer\n",
        "opt = torch.optim.SGD(model.parameters(), lr=1e-5)"
      ],
      "metadata": {
        "id": "mpQP6AjO9_Eg"
      },
      "execution_count": null,
      "outputs": []
    },
    {
      "cell_type": "code",
      "source": [
        "# Train the model\n",
        "\n",
        "def fit(num_epochs, model, loss_fn, opt, train_dl):\n",
        "    for epoch in range(num_epochs):\n",
        "        for xb, yb in train_dl:\n",
        "            pred = model(xb)\n",
        "            loss = loss_fn(pred, yb)\n",
        "            loss.backward()\n",
        "            opt.step()\n",
        "            opt.zero_grad()\n",
        "        if (epoch+1) % 10 == 0:\n",
        "            print(f'Epoch [{epoch+1}/{num_epochs}], Loss: {round(loss.item(), 3)} ,{xb} , {yb}')"
      ],
      "metadata": {
        "id": "Ogwqm1XZ-CfG"
      },
      "execution_count": null,
      "outputs": []
    },
    {
      "cell_type": "code",
      "source": [
        "# Fit the model\n",
        "fit(250, model, loss_fn, opt, train_dl)"
      ],
      "metadata": {
        "colab": {
          "base_uri": "https://localhost:8080/"
        },
        "id": "gbiBSNHQ-MyZ",
        "outputId": "e8dc6657-2f96-4321-9588-4fb76006a6d5"
      },
      "execution_count": null,
      "outputs": [
        {
          "output_type": "stream",
          "name": "stdout",
          "text": [
            "Epoch [10/250], Loss: 295.793 ,tensor([[ 73.,  67.,  43.],\n",
            "        [ 87., 134.,  58.],\n",
            "        [ 69.,  96.,  70.],\n",
            "        [ 91.,  88.,  64.],\n",
            "        [ 69.,  96.,  70.]]) , tensor([[ 56.,  70.],\n",
            "        [119., 133.],\n",
            "        [103., 119.],\n",
            "        [ 81., 101.],\n",
            "        [103., 119.]])\n",
            "Epoch [20/250], Loss: 368.414 ,tensor([[ 91.,  88.,  64.],\n",
            "        [ 91.,  88.,  64.],\n",
            "        [102.,  43.,  37.],\n",
            "        [ 69.,  96.,  70.],\n",
            "        [ 69.,  96.,  70.]]) , tensor([[ 81., 101.],\n",
            "        [ 81., 101.],\n",
            "        [ 22.,  37.],\n",
            "        [103., 119.],\n",
            "        [103., 119.]])\n",
            "Epoch [30/250], Loss: 433.63 ,tensor([[102.,  43.,  37.],\n",
            "        [102.,  43.,  37.],\n",
            "        [ 73.,  67.,  43.],\n",
            "        [ 91.,  88.,  64.],\n",
            "        [ 73.,  67.,  43.]]) , tensor([[ 22.,  37.],\n",
            "        [ 22.,  37.],\n",
            "        [ 56.,  70.],\n",
            "        [ 81., 101.],\n",
            "        [ 56.,  70.]])\n",
            "Epoch [40/250], Loss: 161.602 ,tensor([[ 91.,  88.,  64.],\n",
            "        [102.,  43.,  37.],\n",
            "        [ 91.,  88.,  64.],\n",
            "        [ 87., 134.,  58.],\n",
            "        [ 73.,  67.,  43.]]) , tensor([[ 81., 101.],\n",
            "        [ 22.,  37.],\n",
            "        [ 81., 101.],\n",
            "        [119., 133.],\n",
            "        [ 56.,  70.]])\n",
            "Epoch [50/250], Loss: 68.934 ,tensor([[69., 96., 70.],\n",
            "        [91., 88., 64.],\n",
            "        [73., 67., 43.],\n",
            "        [69., 96., 70.],\n",
            "        [69., 96., 70.]]) , tensor([[103., 119.],\n",
            "        [ 81., 101.],\n",
            "        [ 56.,  70.],\n",
            "        [103., 119.],\n",
            "        [103., 119.]])\n",
            "Epoch [60/250], Loss: 83.08 ,tensor([[102.,  43.,  37.],\n",
            "        [ 87., 134.,  58.],\n",
            "        [ 87., 134.,  58.],\n",
            "        [ 91.,  88.,  64.],\n",
            "        [ 73.,  67.,  43.]]) , tensor([[ 22.,  37.],\n",
            "        [119., 133.],\n",
            "        [119., 133.],\n",
            "        [ 81., 101.],\n",
            "        [ 56.,  70.]])\n",
            "Epoch [70/250], Loss: 67.607 ,tensor([[ 87., 134.,  58.],\n",
            "        [ 87., 134.,  58.],\n",
            "        [102.,  43.,  37.],\n",
            "        [ 69.,  96.,  70.],\n",
            "        [ 73.,  67.,  43.]]) , tensor([[119., 133.],\n",
            "        [119., 133.],\n",
            "        [ 22.,  37.],\n",
            "        [103., 119.],\n",
            "        [ 56.,  70.]])\n",
            "Epoch [80/250], Loss: 41.555 ,tensor([[ 69.,  96.,  70.],\n",
            "        [102.,  43.,  37.],\n",
            "        [ 73.,  67.,  43.],\n",
            "        [ 73.,  67.,  43.],\n",
            "        [ 73.,  67.,  43.]]) , tensor([[103., 119.],\n",
            "        [ 22.,  37.],\n",
            "        [ 56.,  70.],\n",
            "        [ 56.,  70.],\n",
            "        [ 56.,  70.]])\n",
            "Epoch [90/250], Loss: 45.617 ,tensor([[102.,  43.,  37.],\n",
            "        [ 73.,  67.,  43.],\n",
            "        [ 87., 134.,  58.],\n",
            "        [ 73.,  67.,  43.],\n",
            "        [102.,  43.,  37.]]) , tensor([[ 22.,  37.],\n",
            "        [ 56.,  70.],\n",
            "        [119., 133.],\n",
            "        [ 56.,  70.],\n",
            "        [ 22.,  37.]])\n",
            "Epoch [100/250], Loss: 21.244 ,tensor([[ 87., 134.,  58.],\n",
            "        [ 91.,  88.,  64.],\n",
            "        [102.,  43.,  37.],\n",
            "        [ 87., 134.,  58.],\n",
            "        [ 69.,  96.,  70.]]) , tensor([[119., 133.],\n",
            "        [ 81., 101.],\n",
            "        [ 22.,  37.],\n",
            "        [119., 133.],\n",
            "        [103., 119.]])\n",
            "Epoch [110/250], Loss: 20.395 ,tensor([[ 87., 134.,  58.],\n",
            "        [102.,  43.,  37.],\n",
            "        [102.,  43.,  37.],\n",
            "        [ 91.,  88.,  64.],\n",
            "        [ 87., 134.,  58.]]) , tensor([[119., 133.],\n",
            "        [ 22.,  37.],\n",
            "        [ 22.,  37.],\n",
            "        [ 81., 101.],\n",
            "        [119., 133.]])\n",
            "Epoch [120/250], Loss: 10.423 ,tensor([[ 91.,  88.,  64.],\n",
            "        [ 91.,  88.,  64.],\n",
            "        [ 87., 134.,  58.],\n",
            "        [ 69.,  96.,  70.],\n",
            "        [102.,  43.,  37.]]) , tensor([[ 81., 101.],\n",
            "        [ 81., 101.],\n",
            "        [119., 133.],\n",
            "        [103., 119.],\n",
            "        [ 22.,  37.]])\n",
            "Epoch [130/250], Loss: 8.018 ,tensor([[ 91.,  88.,  64.],\n",
            "        [ 69.,  96.,  70.],\n",
            "        [102.,  43.,  37.],\n",
            "        [ 87., 134.,  58.],\n",
            "        [ 73.,  67.,  43.]]) , tensor([[ 81., 101.],\n",
            "        [103., 119.],\n",
            "        [ 22.,  37.],\n",
            "        [119., 133.],\n",
            "        [ 56.,  70.]])\n",
            "Epoch [140/250], Loss: 6.304 ,tensor([[ 69.,  96.,  70.],\n",
            "        [ 69.,  96.,  70.],\n",
            "        [ 87., 134.,  58.],\n",
            "        [ 91.,  88.,  64.],\n",
            "        [ 73.,  67.,  43.]]) , tensor([[103., 119.],\n",
            "        [103., 119.],\n",
            "        [119., 133.],\n",
            "        [ 81., 101.],\n",
            "        [ 56.,  70.]])\n",
            "Epoch [150/250], Loss: 3.005 ,tensor([[ 91.,  88.,  64.],\n",
            "        [ 87., 134.,  58.],\n",
            "        [ 69.,  96.,  70.],\n",
            "        [ 87., 134.,  58.],\n",
            "        [ 91.,  88.,  64.]]) , tensor([[ 81., 101.],\n",
            "        [119., 133.],\n",
            "        [103., 119.],\n",
            "        [119., 133.],\n",
            "        [ 81., 101.]])\n",
            "Epoch [160/250], Loss: 5.339 ,tensor([[ 73.,  67.,  43.],\n",
            "        [102.,  43.,  37.],\n",
            "        [ 91.,  88.,  64.],\n",
            "        [102.,  43.,  37.],\n",
            "        [ 69.,  96.,  70.]]) , tensor([[ 56.,  70.],\n",
            "        [ 22.,  37.],\n",
            "        [ 81., 101.],\n",
            "        [ 22.,  37.],\n",
            "        [103., 119.]])\n",
            "Epoch [170/250], Loss: 4.799 ,tensor([[ 73.,  67.,  43.],\n",
            "        [ 69.,  96.,  70.],\n",
            "        [ 69.,  96.,  70.],\n",
            "        [ 91.,  88.,  64.],\n",
            "        [102.,  43.,  37.]]) , tensor([[ 56.,  70.],\n",
            "        [103., 119.],\n",
            "        [103., 119.],\n",
            "        [ 81., 101.],\n",
            "        [ 22.,  37.]])\n",
            "Epoch [180/250], Loss: 2.276 ,tensor([[ 91.,  88.,  64.],\n",
            "        [ 87., 134.,  58.],\n",
            "        [ 69.,  96.,  70.],\n",
            "        [ 73.,  67.,  43.],\n",
            "        [ 73.,  67.,  43.]]) , tensor([[ 81., 101.],\n",
            "        [119., 133.],\n",
            "        [103., 119.],\n",
            "        [ 56.,  70.],\n",
            "        [ 56.,  70.]])\n",
            "Epoch [190/250], Loss: 2.838 ,tensor([[ 91.,  88.,  64.],\n",
            "        [ 69.,  96.,  70.],\n",
            "        [102.,  43.,  37.],\n",
            "        [102.,  43.,  37.],\n",
            "        [ 91.,  88.,  64.]]) , tensor([[ 81., 101.],\n",
            "        [103., 119.],\n",
            "        [ 22.,  37.],\n",
            "        [ 22.,  37.],\n",
            "        [ 81., 101.]])\n",
            "Epoch [200/250], Loss: 1.44 ,tensor([[ 87., 134.,  58.],\n",
            "        [102.,  43.,  37.],\n",
            "        [ 91.,  88.,  64.],\n",
            "        [ 73.,  67.,  43.],\n",
            "        [ 87., 134.,  58.]]) , tensor([[119., 133.],\n",
            "        [ 22.,  37.],\n",
            "        [ 81., 101.],\n",
            "        [ 56.,  70.],\n",
            "        [119., 133.]])\n",
            "Epoch [210/250], Loss: 3.922 ,tensor([[102.,  43.,  37.],\n",
            "        [ 87., 134.,  58.],\n",
            "        [ 69.,  96.,  70.],\n",
            "        [ 69.,  96.,  70.],\n",
            "        [ 69.,  96.,  70.]]) , tensor([[ 22.,  37.],\n",
            "        [119., 133.],\n",
            "        [103., 119.],\n",
            "        [103., 119.],\n",
            "        [103., 119.]])\n",
            "Epoch [220/250], Loss: 1.238 ,tensor([[ 73.,  67.,  43.],\n",
            "        [102.,  43.,  37.],\n",
            "        [ 91.,  88.,  64.],\n",
            "        [ 91.,  88.,  64.],\n",
            "        [ 87., 134.,  58.]]) , tensor([[ 56.,  70.],\n",
            "        [ 22.,  37.],\n",
            "        [ 81., 101.],\n",
            "        [ 81., 101.],\n",
            "        [119., 133.]])\n",
            "Epoch [230/250], Loss: 1.707 ,tensor([[ 69.,  96.,  70.],\n",
            "        [ 87., 134.,  58.],\n",
            "        [102.,  43.,  37.],\n",
            "        [ 73.,  67.,  43.],\n",
            "        [ 91.,  88.,  64.]]) , tensor([[103., 119.],\n",
            "        [119., 133.],\n",
            "        [ 22.,  37.],\n",
            "        [ 56.,  70.],\n",
            "        [ 81., 101.]])\n",
            "Epoch [240/250], Loss: 1.759 ,tensor([[69., 96., 70.],\n",
            "        [73., 67., 43.],\n",
            "        [73., 67., 43.],\n",
            "        [91., 88., 64.],\n",
            "        [91., 88., 64.]]) , tensor([[103., 119.],\n",
            "        [ 56.,  70.],\n",
            "        [ 56.,  70.],\n",
            "        [ 81., 101.],\n",
            "        [ 81., 101.]])\n",
            "Epoch [250/250], Loss: 1.64 ,tensor([[91., 88., 64.],\n",
            "        [91., 88., 64.],\n",
            "        [73., 67., 43.],\n",
            "        [69., 96., 70.],\n",
            "        [73., 67., 43.]]) , tensor([[ 81., 101.],\n",
            "        [ 81., 101.],\n",
            "        [ 56.,  70.],\n",
            "        [103., 119.],\n",
            "        [ 56.,  70.]])\n"
          ]
        }
      ]
    },
    {
      "cell_type": "code",
      "source": [
        "preds = model(inputs)\n",
        "preds"
      ],
      "metadata": {
        "colab": {
          "base_uri": "https://localhost:8080/"
        },
        "id": "ybtHJV8s-XIv",
        "outputId": "a2a87265-59b5-42ce-e64e-e0dc973c57e2"
      },
      "execution_count": null,
      "outputs": [
        {
          "output_type": "execute_result",
          "data": {
            "text/plain": [
              "tensor([[ 57.2192,  70.4742],\n",
              "        [ 81.9321,  99.8939],\n",
              "        [119.0769, 134.6692],\n",
              "        [ 21.5342,  38.1296],\n",
              "        [101.1797, 117.0381],\n",
              "        [ 57.2192,  70.4742],\n",
              "        [ 81.9321,  99.8939],\n",
              "        [119.0769, 134.6692],\n",
              "        [ 21.5342,  38.1296],\n",
              "        [101.1797, 117.0381],\n",
              "        [ 57.2192,  70.4742],\n",
              "        [ 81.9321,  99.8939],\n",
              "        [119.0769, 134.6692],\n",
              "        [ 21.5342,  38.1296],\n",
              "        [101.1797, 117.0381]], grad_fn=<AddmmBackward0>)"
            ]
          },
          "metadata": {},
          "execution_count": 272
        }
      ]
    },
    {
      "cell_type": "code",
      "source": [
        "targets"
      ],
      "metadata": {
        "colab": {
          "base_uri": "https://localhost:8080/"
        },
        "id": "RTVOwfWP-afM",
        "outputId": "ccdaf7b9-32ec-4931-b71b-327267c8721a"
      },
      "execution_count": null,
      "outputs": [
        {
          "output_type": "execute_result",
          "data": {
            "text/plain": [
              "tensor([[ 56.,  70.],\n",
              "        [ 81., 101.],\n",
              "        [119., 133.],\n",
              "        [ 22.,  37.],\n",
              "        [103., 119.],\n",
              "        [ 56.,  70.],\n",
              "        [ 81., 101.],\n",
              "        [119., 133.],\n",
              "        [ 22.,  37.],\n",
              "        [103., 119.],\n",
              "        [ 56.,  70.],\n",
              "        [ 81., 101.],\n",
              "        [119., 133.],\n",
              "        [ 22.,  37.],\n",
              "        [103., 119.]])"
            ]
          },
          "metadata": {},
          "execution_count": 273
        }
      ]
    },
    {
      "cell_type": "code",
      "source": [
        "from sklearn.metrics import mean_squared_error\n",
        "print(mean_squared_error(targets.detach().numpy(),preds.detach().numpy()))"
      ],
      "metadata": {
        "colab": {
          "base_uri": "https://localhost:8080/"
        },
        "id": "8vezSVp2szER",
        "outputId": "2efce657-45c8-48b2-b8c9-0f45dd5a08d7"
      },
      "execution_count": null,
      "outputs": [
        {
          "output_type": "stream",
          "name": "stdout",
          "text": [
            "1.5250998\n"
          ]
        }
      ]
    },
    {
      "cell_type": "markdown",
      "source": [
        "4 Exercise 1.1\n",
        "1. Estimate the value of model parameters(weights and bias) and MSE Loss after training for\n",
        "1000 epochs.\n",
        "2. Take the learning rate value as 0.1 and train the model. Write in brief the impact of this\n",
        "learning rate on the model.\n",
        "3. Take the learning rate value as 0.0000001 and train the model. Write in brief the impact of\n",
        "this learning rate on the model.\n",
        "4. Plot a graph of the number of epochs vs the loss value of the model.\n",
        "5. Use the model to predict crop yield for apples if temperature is 70, Rain is 34 and Humidity\n",
        "is 45.\n",
        "6. Write in brief about the approach used in the model generation process."
      ],
      "metadata": {
        "id": "P9LnlOvNk6to"
      }
    },
    {
      "cell_type": "code",
      "source": [
        "# 1\n",
        "fit(1000, model, loss_fn, opt, train_dl)"
      ],
      "metadata": {
        "colab": {
          "base_uri": "https://localhost:8080/"
        },
        "id": "hNxDGoC8k5bv",
        "outputId": "202c4ae9-1947-4a23-bfe6-487630f6fd55"
      },
      "execution_count": null,
      "outputs": [
        {
          "output_type": "stream",
          "name": "stdout",
          "text": [
            "Epoch [10/1000], Loss: 1.33 ,tensor([[ 73.,  67.,  43.],\n",
            "        [ 91.,  88.,  64.],\n",
            "        [102.,  43.,  37.],\n",
            "        [ 69.,  96.,  70.],\n",
            "        [102.,  43.,  37.]]) , tensor([[ 56.,  70.],\n",
            "        [ 81., 101.],\n",
            "        [ 22.,  37.],\n",
            "        [103., 119.],\n",
            "        [ 22.,  37.]])\n",
            "Epoch [20/1000], Loss: 1.181 ,tensor([[ 73.,  67.,  43.],\n",
            "        [ 73.,  67.,  43.],\n",
            "        [ 91.,  88.,  64.],\n",
            "        [ 87., 134.,  58.],\n",
            "        [ 91.,  88.,  64.]]) , tensor([[ 56.,  70.],\n",
            "        [ 56.,  70.],\n",
            "        [ 81., 101.],\n",
            "        [119., 133.],\n",
            "        [ 81., 101.]])\n",
            "Epoch [30/1000], Loss: 1.202 ,tensor([[102.,  43.,  37.],\n",
            "        [ 73.,  67.,  43.],\n",
            "        [ 91.,  88.,  64.],\n",
            "        [ 69.,  96.,  70.],\n",
            "        [102.,  43.,  37.]]) , tensor([[ 22.,  37.],\n",
            "        [ 56.,  70.],\n",
            "        [ 81., 101.],\n",
            "        [103., 119.],\n",
            "        [ 22.,  37.]])\n",
            "Epoch [40/1000], Loss: 1.226 ,tensor([[102.,  43.,  37.],\n",
            "        [ 87., 134.,  58.],\n",
            "        [ 69.,  96.,  70.],\n",
            "        [102.,  43.,  37.],\n",
            "        [102.,  43.,  37.]]) , tensor([[ 22.,  37.],\n",
            "        [119., 133.],\n",
            "        [103., 119.],\n",
            "        [ 22.,  37.],\n",
            "        [ 22.,  37.]])\n",
            "Epoch [50/1000], Loss: 1.242 ,tensor([[ 87., 134.,  58.],\n",
            "        [102.,  43.,  37.],\n",
            "        [ 69.,  96.,  70.],\n",
            "        [ 73.,  67.,  43.],\n",
            "        [ 91.,  88.,  64.]]) , tensor([[119., 133.],\n",
            "        [ 22.,  37.],\n",
            "        [103., 119.],\n",
            "        [ 56.,  70.],\n",
            "        [ 81., 101.]])\n",
            "Epoch [60/1000], Loss: 1.553 ,tensor([[ 69.,  96.,  70.],\n",
            "        [ 87., 134.,  58.],\n",
            "        [102.,  43.,  37.],\n",
            "        [ 73.,  67.,  43.],\n",
            "        [ 69.,  96.,  70.]]) , tensor([[103., 119.],\n",
            "        [119., 133.],\n",
            "        [ 22.,  37.],\n",
            "        [ 56.,  70.],\n",
            "        [103., 119.]])\n",
            "Epoch [70/1000], Loss: 1.452 ,tensor([[ 73.,  67.,  43.],\n",
            "        [102.,  43.,  37.],\n",
            "        [ 69.,  96.,  70.],\n",
            "        [ 69.,  96.,  70.],\n",
            "        [ 73.,  67.,  43.]]) , tensor([[ 56.,  70.],\n",
            "        [ 22.,  37.],\n",
            "        [103., 119.],\n",
            "        [103., 119.],\n",
            "        [ 56.,  70.]])\n",
            "Epoch [80/1000], Loss: 0.941 ,tensor([[ 91.,  88.,  64.],\n",
            "        [ 87., 134.,  58.],\n",
            "        [ 87., 134.,  58.],\n",
            "        [ 73.,  67.,  43.],\n",
            "        [102.,  43.,  37.]]) , tensor([[ 81., 101.],\n",
            "        [119., 133.],\n",
            "        [119., 133.],\n",
            "        [ 56.,  70.],\n",
            "        [ 22.,  37.]])\n",
            "Epoch [90/1000], Loss: 1.086 ,tensor([[102.,  43.,  37.],\n",
            "        [ 69.,  96.,  70.],\n",
            "        [ 91.,  88.,  64.],\n",
            "        [ 73.,  67.,  43.],\n",
            "        [ 87., 134.,  58.]]) , tensor([[ 22.,  37.],\n",
            "        [103., 119.],\n",
            "        [ 81., 101.],\n",
            "        [ 56.,  70.],\n",
            "        [119., 133.]])\n",
            "Epoch [100/1000], Loss: 0.772 ,tensor([[ 91.,  88.,  64.],\n",
            "        [102.,  43.,  37.],\n",
            "        [102.,  43.,  37.],\n",
            "        [ 91.,  88.,  64.],\n",
            "        [ 87., 134.,  58.]]) , tensor([[ 81., 101.],\n",
            "        [ 22.,  37.],\n",
            "        [ 22.,  37.],\n",
            "        [ 81., 101.],\n",
            "        [119., 133.]])\n",
            "Epoch [110/1000], Loss: 1.019 ,tensor([[ 87., 134.,  58.],\n",
            "        [ 73.,  67.,  43.],\n",
            "        [ 87., 134.,  58.],\n",
            "        [ 73.,  67.,  43.],\n",
            "        [ 91.,  88.,  64.]]) , tensor([[119., 133.],\n",
            "        [ 56.,  70.],\n",
            "        [119., 133.],\n",
            "        [ 56.,  70.],\n",
            "        [ 81., 101.]])\n",
            "Epoch [120/1000], Loss: 0.917 ,tensor([[ 91.,  88.,  64.],\n",
            "        [ 69.,  96.,  70.],\n",
            "        [102.,  43.,  37.],\n",
            "        [102.,  43.,  37.],\n",
            "        [ 73.,  67.,  43.]]) , tensor([[ 81., 101.],\n",
            "        [103., 119.],\n",
            "        [ 22.,  37.],\n",
            "        [ 22.,  37.],\n",
            "        [ 56.,  70.]])\n",
            "Epoch [130/1000], Loss: 1.032 ,tensor([[ 73.,  67.,  43.],\n",
            "        [102.,  43.,  37.],\n",
            "        [ 91.,  88.,  64.],\n",
            "        [ 91.,  88.,  64.],\n",
            "        [ 69.,  96.,  70.]]) , tensor([[ 56.,  70.],\n",
            "        [ 22.,  37.],\n",
            "        [ 81., 101.],\n",
            "        [ 81., 101.],\n",
            "        [103., 119.]])\n",
            "Epoch [140/1000], Loss: 0.942 ,tensor([[ 69.,  96.,  70.],\n",
            "        [102.,  43.,  37.],\n",
            "        [ 91.,  88.,  64.],\n",
            "        [ 73.,  67.,  43.],\n",
            "        [ 87., 134.,  58.]]) , tensor([[103., 119.],\n",
            "        [ 22.,  37.],\n",
            "        [ 81., 101.],\n",
            "        [ 56.,  70.],\n",
            "        [119., 133.]])\n",
            "Epoch [150/1000], Loss: 0.886 ,tensor([[ 73.,  67.,  43.],\n",
            "        [102.,  43.,  37.],\n",
            "        [ 87., 134.,  58.],\n",
            "        [ 69.,  96.,  70.],\n",
            "        [ 73.,  67.,  43.]]) , tensor([[ 56.,  70.],\n",
            "        [ 22.,  37.],\n",
            "        [119., 133.],\n",
            "        [103., 119.],\n",
            "        [ 56.,  70.]])\n",
            "Epoch [160/1000], Loss: 0.895 ,tensor([[102.,  43.,  37.],\n",
            "        [ 91.,  88.,  64.],\n",
            "        [ 87., 134.,  58.],\n",
            "        [ 69.,  96.,  70.],\n",
            "        [ 73.,  67.,  43.]]) , tensor([[ 22.,  37.],\n",
            "        [ 81., 101.],\n",
            "        [119., 133.],\n",
            "        [103., 119.],\n",
            "        [ 56.,  70.]])\n",
            "Epoch [170/1000], Loss: 0.841 ,tensor([[ 69.,  96.,  70.],\n",
            "        [102.,  43.,  37.],\n",
            "        [ 73.,  67.,  43.],\n",
            "        [ 87., 134.,  58.],\n",
            "        [ 73.,  67.,  43.]]) , tensor([[103., 119.],\n",
            "        [ 22.,  37.],\n",
            "        [ 56.,  70.],\n",
            "        [119., 133.],\n",
            "        [ 56.,  70.]])\n",
            "Epoch [180/1000], Loss: 0.794 ,tensor([[ 91.,  88.,  64.],\n",
            "        [ 87., 134.,  58.],\n",
            "        [102.,  43.,  37.],\n",
            "        [ 69.,  96.,  70.],\n",
            "        [102.,  43.,  37.]]) , tensor([[ 81., 101.],\n",
            "        [119., 133.],\n",
            "        [ 22.,  37.],\n",
            "        [103., 119.],\n",
            "        [ 22.,  37.]])\n",
            "Epoch [190/1000], Loss: 0.784 ,tensor([[ 87., 134.,  58.],\n",
            "        [ 69.,  96.,  70.],\n",
            "        [ 91.,  88.,  64.],\n",
            "        [102.,  43.,  37.],\n",
            "        [102.,  43.,  37.]]) , tensor([[119., 133.],\n",
            "        [103., 119.],\n",
            "        [ 81., 101.],\n",
            "        [ 22.,  37.],\n",
            "        [ 22.,  37.]])\n",
            "Epoch [200/1000], Loss: 1.12 ,tensor([[ 91.,  88.,  64.],\n",
            "        [ 69.,  96.,  70.],\n",
            "        [ 91.,  88.,  64.],\n",
            "        [ 69.,  96.,  70.],\n",
            "        [ 87., 134.,  58.]]) , tensor([[ 81., 101.],\n",
            "        [103., 119.],\n",
            "        [ 81., 101.],\n",
            "        [103., 119.],\n",
            "        [119., 133.]])\n",
            "Epoch [210/1000], Loss: 0.801 ,tensor([[102.,  43.,  37.],\n",
            "        [ 91.,  88.,  64.],\n",
            "        [ 87., 134.,  58.],\n",
            "        [ 73.,  67.,  43.],\n",
            "        [ 69.,  96.,  70.]]) , tensor([[ 22.,  37.],\n",
            "        [ 81., 101.],\n",
            "        [119., 133.],\n",
            "        [ 56.,  70.],\n",
            "        [103., 119.]])\n",
            "Epoch [220/1000], Loss: 0.963 ,tensor([[ 69.,  96.,  70.],\n",
            "        [ 69.,  96.,  70.],\n",
            "        [ 91.,  88.,  64.],\n",
            "        [ 87., 134.,  58.],\n",
            "        [102.,  43.,  37.]]) , tensor([[103., 119.],\n",
            "        [103., 119.],\n",
            "        [ 81., 101.],\n",
            "        [119., 133.],\n",
            "        [ 22.,  37.]])\n",
            "Epoch [230/1000], Loss: 0.928 ,tensor([[102.,  43.,  37.],\n",
            "        [ 73.,  67.,  43.],\n",
            "        [ 87., 134.,  58.],\n",
            "        [ 69.,  96.,  70.],\n",
            "        [ 69.,  96.,  70.]]) , tensor([[ 22.,  37.],\n",
            "        [ 56.,  70.],\n",
            "        [119., 133.],\n",
            "        [103., 119.],\n",
            "        [103., 119.]])\n",
            "Epoch [240/1000], Loss: 0.788 ,tensor([[ 69.,  96.,  70.],\n",
            "        [ 91.,  88.,  64.],\n",
            "        [102.,  43.,  37.],\n",
            "        [ 91.,  88.,  64.],\n",
            "        [ 87., 134.,  58.]]) , tensor([[103., 119.],\n",
            "        [ 81., 101.],\n",
            "        [ 22.,  37.],\n",
            "        [ 81., 101.],\n",
            "        [119., 133.]])\n",
            "Epoch [250/1000], Loss: 0.662 ,tensor([[102.,  43.,  37.],\n",
            "        [ 73.,  67.,  43.],\n",
            "        [ 87., 134.,  58.],\n",
            "        [102.,  43.,  37.],\n",
            "        [ 69.,  96.,  70.]]) , tensor([[ 22.,  37.],\n",
            "        [ 56.,  70.],\n",
            "        [119., 133.],\n",
            "        [ 22.,  37.],\n",
            "        [103., 119.]])\n",
            "Epoch [260/1000], Loss: 0.863 ,tensor([[ 73.,  67.,  43.],\n",
            "        [ 69.,  96.,  70.],\n",
            "        [ 87., 134.,  58.],\n",
            "        [ 69.,  96.,  70.],\n",
            "        [102.,  43.,  37.]]) , tensor([[ 56.,  70.],\n",
            "        [103., 119.],\n",
            "        [119., 133.],\n",
            "        [103., 119.],\n",
            "        [ 22.,  37.]])\n",
            "Epoch [270/1000], Loss: 0.927 ,tensor([[ 69.,  96.,  70.],\n",
            "        [ 73.,  67.,  43.],\n",
            "        [ 91.,  88.,  64.],\n",
            "        [ 69.,  96.,  70.],\n",
            "        [102.,  43.,  37.]]) , tensor([[103., 119.],\n",
            "        [ 56.,  70.],\n",
            "        [ 81., 101.],\n",
            "        [103., 119.],\n",
            "        [ 22.,  37.]])\n",
            "Epoch [280/1000], Loss: 0.833 ,tensor([[ 91.,  88.,  64.],\n",
            "        [ 91.,  88.,  64.],\n",
            "        [ 73.,  67.,  43.],\n",
            "        [ 69.,  96.,  70.],\n",
            "        [102.,  43.,  37.]]) , tensor([[ 81., 101.],\n",
            "        [ 81., 101.],\n",
            "        [ 56.,  70.],\n",
            "        [103., 119.],\n",
            "        [ 22.,  37.]])\n",
            "Epoch [290/1000], Loss: 0.788 ,tensor([[ 91.,  88.,  64.],\n",
            "        [ 73.,  67.,  43.],\n",
            "        [102.,  43.,  37.],\n",
            "        [ 73.,  67.,  43.],\n",
            "        [ 91.,  88.,  64.]]) , tensor([[ 81., 101.],\n",
            "        [ 56.,  70.],\n",
            "        [ 22.,  37.],\n",
            "        [ 56.,  70.],\n",
            "        [ 81., 101.]])\n",
            "Epoch [300/1000], Loss: 0.596 ,tensor([[102.,  43.,  37.],\n",
            "        [ 87., 134.,  58.],\n",
            "        [ 73.,  67.,  43.],\n",
            "        [ 69.,  96.,  70.],\n",
            "        [ 87., 134.,  58.]]) , tensor([[ 22.,  37.],\n",
            "        [119., 133.],\n",
            "        [ 56.,  70.],\n",
            "        [103., 119.],\n",
            "        [119., 133.]])\n",
            "Epoch [310/1000], Loss: 0.539 ,tensor([[ 87., 134.,  58.],\n",
            "        [ 87., 134.,  58.],\n",
            "        [102.,  43.,  37.],\n",
            "        [ 73.,  67.,  43.],\n",
            "        [ 73.,  67.,  43.]]) , tensor([[119., 133.],\n",
            "        [119., 133.],\n",
            "        [ 22.,  37.],\n",
            "        [ 56.,  70.],\n",
            "        [ 56.,  70.]])\n",
            "Epoch [320/1000], Loss: 0.688 ,tensor([[102.,  43.,  37.],\n",
            "        [ 73.,  67.,  43.],\n",
            "        [ 69.,  96.,  70.],\n",
            "        [102.,  43.,  37.],\n",
            "        [ 91.,  88.,  64.]]) , tensor([[ 22.,  37.],\n",
            "        [ 56.,  70.],\n",
            "        [103., 119.],\n",
            "        [ 22.,  37.],\n",
            "        [ 81., 101.]])\n",
            "Epoch [330/1000], Loss: 0.655 ,tensor([[ 69.,  96.,  70.],\n",
            "        [ 73.,  67.,  43.],\n",
            "        [102.,  43.,  37.],\n",
            "        [ 91.,  88.,  64.],\n",
            "        [ 87., 134.,  58.]]) , tensor([[103., 119.],\n",
            "        [ 56.,  70.],\n",
            "        [ 22.,  37.],\n",
            "        [ 81., 101.],\n",
            "        [119., 133.]])\n",
            "Epoch [340/1000], Loss: 0.508 ,tensor([[ 87., 134.,  58.],\n",
            "        [ 87., 134.,  58.],\n",
            "        [102.,  43.,  37.],\n",
            "        [ 87., 134.,  58.],\n",
            "        [ 69.,  96.,  70.]]) , tensor([[119., 133.],\n",
            "        [119., 133.],\n",
            "        [ 22.,  37.],\n",
            "        [119., 133.],\n",
            "        [103., 119.]])\n",
            "Epoch [350/1000], Loss: 0.615 ,tensor([[ 91.,  88.,  64.],\n",
            "        [ 69.,  96.,  70.],\n",
            "        [ 73.,  67.,  43.],\n",
            "        [ 87., 134.,  58.],\n",
            "        [ 87., 134.,  58.]]) , tensor([[ 81., 101.],\n",
            "        [103., 119.],\n",
            "        [ 56.,  70.],\n",
            "        [119., 133.],\n",
            "        [119., 133.]])\n",
            "Epoch [360/1000], Loss: 0.819 ,tensor([[ 69.,  96.,  70.],\n",
            "        [102.,  43.,  37.],\n",
            "        [ 73.,  67.,  43.],\n",
            "        [ 69.,  96.,  70.],\n",
            "        [ 91.,  88.,  64.]]) , tensor([[103., 119.],\n",
            "        [ 22.,  37.],\n",
            "        [ 56.,  70.],\n",
            "        [103., 119.],\n",
            "        [ 81., 101.]])\n",
            "Epoch [370/1000], Loss: 0.593 ,tensor([[ 87., 134.,  58.],\n",
            "        [ 69.,  96.,  70.],\n",
            "        [ 87., 134.,  58.],\n",
            "        [ 73.,  67.,  43.],\n",
            "        [ 91.,  88.,  64.]]) , tensor([[119., 133.],\n",
            "        [103., 119.],\n",
            "        [119., 133.],\n",
            "        [ 56.,  70.],\n",
            "        [ 81., 101.]])\n",
            "Epoch [380/1000], Loss: 0.486 ,tensor([[102.,  43.,  37.],\n",
            "        [ 73.,  67.,  43.],\n",
            "        [ 87., 134.,  58.],\n",
            "        [ 91.,  88.,  64.],\n",
            "        [ 87., 134.,  58.]]) , tensor([[ 22.,  37.],\n",
            "        [ 56.,  70.],\n",
            "        [119., 133.],\n",
            "        [ 81., 101.],\n",
            "        [119., 133.]])\n",
            "Epoch [390/1000], Loss: 0.93 ,tensor([[ 69.,  96.,  70.],\n",
            "        [ 69.,  96.,  70.],\n",
            "        [ 69.,  96.,  70.],\n",
            "        [102.,  43.,  37.],\n",
            "        [ 73.,  67.,  43.]]) , tensor([[103., 119.],\n",
            "        [103., 119.],\n",
            "        [103., 119.],\n",
            "        [ 22.,  37.],\n",
            "        [ 56.,  70.]])\n",
            "Epoch [400/1000], Loss: 0.504 ,tensor([[102.,  43.,  37.],\n",
            "        [102.,  43.,  37.],\n",
            "        [ 73.,  67.,  43.],\n",
            "        [ 87., 134.,  58.],\n",
            "        [ 91.,  88.,  64.]]) , tensor([[ 22.,  37.],\n",
            "        [ 22.,  37.],\n",
            "        [ 56.,  70.],\n",
            "        [119., 133.],\n",
            "        [ 81., 101.]])\n",
            "Epoch [410/1000], Loss: 0.72 ,tensor([[ 69.,  96.,  70.],\n",
            "        [ 87., 134.,  58.],\n",
            "        [ 69.,  96.,  70.],\n",
            "        [ 91.,  88.,  64.],\n",
            "        [ 73.,  67.,  43.]]) , tensor([[103., 119.],\n",
            "        [119., 133.],\n",
            "        [103., 119.],\n",
            "        [ 81., 101.],\n",
            "        [ 56.,  70.]])\n",
            "Epoch [420/1000], Loss: 0.584 ,tensor([[ 73.,  67.,  43.],\n",
            "        [ 91.,  88.,  64.],\n",
            "        [102.,  43.,  37.],\n",
            "        [ 73.,  67.,  43.],\n",
            "        [ 87., 134.,  58.]]) , tensor([[ 56.,  70.],\n",
            "        [ 81., 101.],\n",
            "        [ 22.,  37.],\n",
            "        [ 56.,  70.],\n",
            "        [119., 133.]])\n",
            "Epoch [430/1000], Loss: 0.703 ,tensor([[ 69.,  96.,  70.],\n",
            "        [ 91.,  88.,  64.],\n",
            "        [ 87., 134.,  58.],\n",
            "        [ 91.,  88.,  64.],\n",
            "        [ 73.,  67.,  43.]]) , tensor([[103., 119.],\n",
            "        [ 81., 101.],\n",
            "        [119., 133.],\n",
            "        [ 81., 101.],\n",
            "        [ 56.,  70.]])\n",
            "Epoch [440/1000], Loss: 0.537 ,tensor([[ 73.,  67.,  43.],\n",
            "        [ 73.,  67.,  43.],\n",
            "        [ 69.,  96.,  70.],\n",
            "        [ 87., 134.,  58.],\n",
            "        [ 87., 134.,  58.]]) , tensor([[ 56.,  70.],\n",
            "        [ 56.,  70.],\n",
            "        [103., 119.],\n",
            "        [119., 133.],\n",
            "        [119., 133.]])\n",
            "Epoch [450/1000], Loss: 0.582 ,tensor([[ 73.,  67.,  43.],\n",
            "        [ 87., 134.,  58.],\n",
            "        [102.,  43.,  37.],\n",
            "        [ 91.,  88.,  64.],\n",
            "        [ 69.,  96.,  70.]]) , tensor([[ 56.,  70.],\n",
            "        [119., 133.],\n",
            "        [ 22.,  37.],\n",
            "        [ 81., 101.],\n",
            "        [103., 119.]])\n",
            "Epoch [460/1000], Loss: 0.524 ,tensor([[ 87., 134.,  58.],\n",
            "        [102.,  43.,  37.],\n",
            "        [102.,  43.,  37.],\n",
            "        [ 69.,  96.,  70.],\n",
            "        [ 73.,  67.,  43.]]) , tensor([[119., 133.],\n",
            "        [ 22.,  37.],\n",
            "        [ 22.,  37.],\n",
            "        [103., 119.],\n",
            "        [ 56.,  70.]])\n",
            "Epoch [470/1000], Loss: 0.49 ,tensor([[102.,  43.,  37.],\n",
            "        [ 91.,  88.,  64.],\n",
            "        [102.,  43.,  37.],\n",
            "        [ 87., 134.,  58.],\n",
            "        [ 73.,  67.,  43.]]) , tensor([[ 22.,  37.],\n",
            "        [ 81., 101.],\n",
            "        [ 22.,  37.],\n",
            "        [119., 133.],\n",
            "        [ 56.,  70.]])\n",
            "Epoch [480/1000], Loss: 0.686 ,tensor([[ 69.,  96.,  70.],\n",
            "        [ 91.,  88.,  64.],\n",
            "        [ 91.,  88.,  64.],\n",
            "        [ 69.,  96.,  70.],\n",
            "        [ 87., 134.,  58.]]) , tensor([[103., 119.],\n",
            "        [ 81., 101.],\n",
            "        [ 81., 101.],\n",
            "        [103., 119.],\n",
            "        [119., 133.]])\n",
            "Epoch [490/1000], Loss: 0.455 ,tensor([[ 69.,  96.,  70.],\n",
            "        [ 91.,  88.,  64.],\n",
            "        [102.,  43.,  37.],\n",
            "        [ 87., 134.,  58.],\n",
            "        [ 87., 134.,  58.]]) , tensor([[103., 119.],\n",
            "        [ 81., 101.],\n",
            "        [ 22.,  37.],\n",
            "        [119., 133.],\n",
            "        [119., 133.]])\n",
            "Epoch [500/1000], Loss: 0.622 ,tensor([[ 69.,  96.,  70.],\n",
            "        [ 69.,  96.,  70.],\n",
            "        [102.,  43.,  37.],\n",
            "        [ 91.,  88.,  64.],\n",
            "        [ 87., 134.,  58.]]) , tensor([[103., 119.],\n",
            "        [103., 119.],\n",
            "        [ 22.,  37.],\n",
            "        [ 81., 101.],\n",
            "        [119., 133.]])\n",
            "Epoch [510/1000], Loss: 0.552 ,tensor([[ 69.,  96.,  70.],\n",
            "        [102.,  43.,  37.],\n",
            "        [ 73.,  67.,  43.],\n",
            "        [ 87., 134.,  58.],\n",
            "        [ 73.,  67.,  43.]]) , tensor([[103., 119.],\n",
            "        [ 22.,  37.],\n",
            "        [ 56.,  70.],\n",
            "        [119., 133.],\n",
            "        [ 56.,  70.]])\n",
            "Epoch [520/1000], Loss: 0.557 ,tensor([[ 91.,  88.,  64.],\n",
            "        [ 73.,  67.,  43.],\n",
            "        [102.,  43.,  37.],\n",
            "        [ 69.,  96.,  70.],\n",
            "        [ 87., 134.,  58.]]) , tensor([[ 81., 101.],\n",
            "        [ 56.,  70.],\n",
            "        [ 22.,  37.],\n",
            "        [103., 119.],\n",
            "        [119., 133.]])\n",
            "Epoch [530/1000], Loss: 0.6 ,tensor([[ 73.,  67.,  43.],\n",
            "        [ 87., 134.,  58.],\n",
            "        [102.,  43.,  37.],\n",
            "        [ 91.,  88.,  64.],\n",
            "        [ 91.,  88.,  64.]]) , tensor([[ 56.,  70.],\n",
            "        [119., 133.],\n",
            "        [ 22.,  37.],\n",
            "        [ 81., 101.],\n",
            "        [ 81., 101.]])\n",
            "Epoch [540/1000], Loss: 0.629 ,tensor([[ 69.,  96.,  70.],\n",
            "        [ 69.,  96.,  70.],\n",
            "        [ 73.,  67.,  43.],\n",
            "        [ 91.,  88.,  64.],\n",
            "        [ 87., 134.,  58.]]) , tensor([[103., 119.],\n",
            "        [103., 119.],\n",
            "        [ 56.,  70.],\n",
            "        [ 81., 101.],\n",
            "        [119., 133.]])\n",
            "Epoch [550/1000], Loss: 0.627 ,tensor([[ 73.,  67.,  43.],\n",
            "        [ 87., 134.,  58.],\n",
            "        [ 69.,  96.,  70.],\n",
            "        [ 73.,  67.,  43.],\n",
            "        [ 91.,  88.,  64.]]) , tensor([[ 56.,  70.],\n",
            "        [119., 133.],\n",
            "        [103., 119.],\n",
            "        [ 56.,  70.],\n",
            "        [ 81., 101.]])\n",
            "Epoch [560/1000], Loss: 0.69 ,tensor([[ 73.,  67.,  43.],\n",
            "        [ 73.,  67.,  43.],\n",
            "        [ 91.,  88.,  64.],\n",
            "        [ 69.,  96.,  70.],\n",
            "        [102.,  43.,  37.]]) , tensor([[ 56.,  70.],\n",
            "        [ 56.,  70.],\n",
            "        [ 81., 101.],\n",
            "        [103., 119.],\n",
            "        [ 22.,  37.]])\n",
            "Epoch [570/1000], Loss: 0.582 ,tensor([[102.,  43.,  37.],\n",
            "        [ 69.,  96.,  70.],\n",
            "        [ 91.,  88.,  64.],\n",
            "        [102.,  43.,  37.],\n",
            "        [102.,  43.,  37.]]) , tensor([[ 22.,  37.],\n",
            "        [103., 119.],\n",
            "        [ 81., 101.],\n",
            "        [ 22.,  37.],\n",
            "        [ 22.,  37.]])\n",
            "Epoch [580/1000], Loss: 0.495 ,tensor([[ 91.,  88.,  64.],\n",
            "        [ 87., 134.,  58.],\n",
            "        [ 69.,  96.,  70.],\n",
            "        [ 87., 134.,  58.],\n",
            "        [ 91.,  88.,  64.]]) , tensor([[ 81., 101.],\n",
            "        [119., 133.],\n",
            "        [103., 119.],\n",
            "        [119., 133.],\n",
            "        [ 81., 101.]])\n",
            "Epoch [590/1000], Loss: 0.713 ,tensor([[ 91.,  88.,  64.],\n",
            "        [102.,  43.,  37.],\n",
            "        [ 91.,  88.,  64.],\n",
            "        [ 69.,  96.,  70.],\n",
            "        [ 73.,  67.,  43.]]) , tensor([[ 81., 101.],\n",
            "        [ 22.,  37.],\n",
            "        [ 81., 101.],\n",
            "        [103., 119.],\n",
            "        [ 56.,  70.]])\n",
            "Epoch [600/1000], Loss: 0.539 ,tensor([[ 73.,  67.,  43.],\n",
            "        [ 69.,  96.,  70.],\n",
            "        [ 91.,  88.,  64.],\n",
            "        [102.,  43.,  37.],\n",
            "        [ 87., 134.,  58.]]) , tensor([[ 56.,  70.],\n",
            "        [103., 119.],\n",
            "        [ 81., 101.],\n",
            "        [ 22.,  37.],\n",
            "        [119., 133.]])\n",
            "Epoch [610/1000], Loss: 0.354 ,tensor([[ 87., 134.,  58.],\n",
            "        [ 87., 134.,  58.],\n",
            "        [ 91.,  88.,  64.],\n",
            "        [102.,  43.,  37.],\n",
            "        [102.,  43.,  37.]]) , tensor([[119., 133.],\n",
            "        [119., 133.],\n",
            "        [ 81., 101.],\n",
            "        [ 22.,  37.],\n",
            "        [ 22.,  37.]])\n",
            "Epoch [620/1000], Loss: 0.492 ,tensor([[ 69.,  96.,  70.],\n",
            "        [ 87., 134.,  58.],\n",
            "        [102.,  43.,  37.],\n",
            "        [102.,  43.,  37.],\n",
            "        [ 91.,  88.,  64.]]) , tensor([[103., 119.],\n",
            "        [119., 133.],\n",
            "        [ 22.,  37.],\n",
            "        [ 22.,  37.],\n",
            "        [ 81., 101.]])\n",
            "Epoch [630/1000], Loss: 0.593 ,tensor([[ 69.,  96.,  70.],\n",
            "        [ 73.,  67.,  43.],\n",
            "        [102.,  43.,  37.],\n",
            "        [ 73.,  67.,  43.],\n",
            "        [102.,  43.,  37.]]) , tensor([[103., 119.],\n",
            "        [ 56.,  70.],\n",
            "        [ 22.,  37.],\n",
            "        [ 56.,  70.],\n",
            "        [ 22.,  37.]])\n",
            "Epoch [640/1000], Loss: 0.408 ,tensor([[102.,  43.,  37.],\n",
            "        [ 69.,  96.,  70.],\n",
            "        [ 87., 134.,  58.],\n",
            "        [ 73.,  67.,  43.],\n",
            "        [ 87., 134.,  58.]]) , tensor([[ 22.,  37.],\n",
            "        [103., 119.],\n",
            "        [119., 133.],\n",
            "        [ 56.,  70.],\n",
            "        [119., 133.]])\n",
            "Epoch [650/1000], Loss: 0.62 ,tensor([[ 91.,  88.,  64.],\n",
            "        [ 69.,  96.,  70.],\n",
            "        [ 91.,  88.,  64.],\n",
            "        [102.,  43.,  37.],\n",
            "        [102.,  43.,  37.]]) , tensor([[ 81., 101.],\n",
            "        [103., 119.],\n",
            "        [ 81., 101.],\n",
            "        [ 22.,  37.],\n",
            "        [ 22.,  37.]])\n",
            "Epoch [660/1000], Loss: 0.743 ,tensor([[91., 88., 64.],\n",
            "        [69., 96., 70.],\n",
            "        [91., 88., 64.],\n",
            "        [73., 67., 43.],\n",
            "        [69., 96., 70.]]) , tensor([[ 81., 101.],\n",
            "        [103., 119.],\n",
            "        [ 81., 101.],\n",
            "        [ 56.,  70.],\n",
            "        [103., 119.]])\n",
            "Epoch [670/1000], Loss: 0.484 ,tensor([[102.,  43.,  37.],\n",
            "        [ 69.,  96.,  70.],\n",
            "        [ 87., 134.,  58.],\n",
            "        [ 69.,  96.,  70.],\n",
            "        [ 87., 134.,  58.]]) , tensor([[ 22.,  37.],\n",
            "        [103., 119.],\n",
            "        [119., 133.],\n",
            "        [103., 119.],\n",
            "        [119., 133.]])\n",
            "Epoch [680/1000], Loss: 0.717 ,tensor([[ 69.,  96.,  70.],\n",
            "        [ 69.,  96.,  70.],\n",
            "        [ 69.,  96.,  70.],\n",
            "        [102.,  43.,  37.],\n",
            "        [ 91.,  88.,  64.]]) , tensor([[103., 119.],\n",
            "        [103., 119.],\n",
            "        [103., 119.],\n",
            "        [ 22.,  37.],\n",
            "        [ 81., 101.]])\n",
            "Epoch [690/1000], Loss: 0.691 ,tensor([[102.,  43.,  37.],\n",
            "        [ 69.,  96.,  70.],\n",
            "        [ 73.,  67.,  43.],\n",
            "        [ 91.,  88.,  64.],\n",
            "        [ 91.,  88.,  64.]]) , tensor([[ 22.,  37.],\n",
            "        [103., 119.],\n",
            "        [ 56.,  70.],\n",
            "        [ 81., 101.],\n",
            "        [ 81., 101.]])\n",
            "Epoch [700/1000], Loss: 0.541 ,tensor([[ 87., 134.,  58.],\n",
            "        [ 91.,  88.,  64.],\n",
            "        [ 69.,  96.,  70.],\n",
            "        [102.,  43.,  37.],\n",
            "        [ 91.,  88.,  64.]]) , tensor([[119., 133.],\n",
            "        [ 81., 101.],\n",
            "        [103., 119.],\n",
            "        [ 22.,  37.],\n",
            "        [ 81., 101.]])\n",
            "Epoch [710/1000], Loss: 0.42 ,tensor([[102.,  43.,  37.],\n",
            "        [ 73.,  67.,  43.],\n",
            "        [102.,  43.,  37.],\n",
            "        [102.,  43.,  37.],\n",
            "        [ 87., 134.,  58.]]) , tensor([[ 22.,  37.],\n",
            "        [ 56.,  70.],\n",
            "        [ 22.,  37.],\n",
            "        [ 22.,  37.],\n",
            "        [119., 133.]])\n",
            "Epoch [720/1000], Loss: 0.386 ,tensor([[ 87., 134.,  58.],\n",
            "        [ 73.,  67.,  43.],\n",
            "        [ 87., 134.,  58.],\n",
            "        [ 69.,  96.,  70.],\n",
            "        [102.,  43.,  37.]]) , tensor([[119., 133.],\n",
            "        [ 56.,  70.],\n",
            "        [119., 133.],\n",
            "        [103., 119.],\n",
            "        [ 22.,  37.]])\n",
            "Epoch [730/1000], Loss: 0.472 ,tensor([[ 87., 134.,  58.],\n",
            "        [ 91.,  88.,  64.],\n",
            "        [102.,  43.,  37.],\n",
            "        [ 73.,  67.,  43.],\n",
            "        [102.,  43.,  37.]]) , tensor([[119., 133.],\n",
            "        [ 81., 101.],\n",
            "        [ 22.,  37.],\n",
            "        [ 56.,  70.],\n",
            "        [ 22.,  37.]])\n",
            "Epoch [740/1000], Loss: 0.575 ,tensor([[ 69.,  96.,  70.],\n",
            "        [ 87., 134.,  58.],\n",
            "        [ 69.,  96.,  70.],\n",
            "        [102.,  43.,  37.],\n",
            "        [102.,  43.,  37.]]) , tensor([[103., 119.],\n",
            "        [119., 133.],\n",
            "        [103., 119.],\n",
            "        [ 22.,  37.],\n",
            "        [ 22.,  37.]])\n",
            "Epoch [750/1000], Loss: 0.473 ,tensor([[ 73.,  67.,  43.],\n",
            "        [ 87., 134.,  58.],\n",
            "        [102.,  43.,  37.],\n",
            "        [102.,  43.,  37.],\n",
            "        [ 91.,  88.,  64.]]) , tensor([[ 56.,  70.],\n",
            "        [119., 133.],\n",
            "        [ 22.,  37.],\n",
            "        [ 22.,  37.],\n",
            "        [ 81., 101.]])\n",
            "Epoch [760/1000], Loss: 0.672 ,tensor([[ 69.,  96.,  70.],\n",
            "        [ 73.,  67.,  43.],\n",
            "        [ 73.,  67.,  43.],\n",
            "        [102.,  43.,  37.],\n",
            "        [ 91.,  88.,  64.]]) , tensor([[103., 119.],\n",
            "        [ 56.,  70.],\n",
            "        [ 56.,  70.],\n",
            "        [ 22.,  37.],\n",
            "        [ 81., 101.]])\n",
            "Epoch [770/1000], Loss: 0.573 ,tensor([[ 91.,  88.,  64.],\n",
            "        [102.,  43.,  37.],\n",
            "        [ 91.,  88.,  64.],\n",
            "        [ 73.,  67.,  43.],\n",
            "        [ 87., 134.,  58.]]) , tensor([[ 81., 101.],\n",
            "        [ 22.,  37.],\n",
            "        [ 81., 101.],\n",
            "        [ 56.,  70.],\n",
            "        [119., 133.]])\n",
            "Epoch [780/1000], Loss: 0.609 ,tensor([[ 87., 134.,  58.],\n",
            "        [ 73.,  67.,  43.],\n",
            "        [ 91.,  88.,  64.],\n",
            "        [ 69.,  96.,  70.],\n",
            "        [ 73.,  67.,  43.]]) , tensor([[119., 133.],\n",
            "        [ 56.,  70.],\n",
            "        [ 81., 101.],\n",
            "        [103., 119.],\n",
            "        [ 56.,  70.]])\n",
            "Epoch [790/1000], Loss: 0.537 ,tensor([[ 87., 134.,  58.],\n",
            "        [102.,  43.,  37.],\n",
            "        [ 69.,  96.,  70.],\n",
            "        [ 91.,  88.,  64.],\n",
            "        [ 69.,  96.,  70.]]) , tensor([[119., 133.],\n",
            "        [ 22.,  37.],\n",
            "        [103., 119.],\n",
            "        [ 81., 101.],\n",
            "        [103., 119.]])\n",
            "Epoch [800/1000], Loss: 0.546 ,tensor([[ 73.,  67.,  43.],\n",
            "        [ 91.,  88.,  64.],\n",
            "        [ 73.,  67.,  43.],\n",
            "        [102.,  43.,  37.],\n",
            "        [ 87., 134.,  58.]]) , tensor([[ 56.,  70.],\n",
            "        [ 81., 101.],\n",
            "        [ 56.,  70.],\n",
            "        [ 22.,  37.],\n",
            "        [119., 133.]])\n",
            "Epoch [810/1000], Loss: 0.549 ,tensor([[ 73.,  67.,  43.],\n",
            "        [ 73.,  67.,  43.],\n",
            "        [ 87., 134.,  58.],\n",
            "        [ 91.,  88.,  64.],\n",
            "        [102.,  43.,  37.]]) , tensor([[ 56.,  70.],\n",
            "        [ 56.,  70.],\n",
            "        [119., 133.],\n",
            "        [ 81., 101.],\n",
            "        [ 22.,  37.]])\n",
            "Epoch [820/1000], Loss: 0.4 ,tensor([[ 87., 134.,  58.],\n",
            "        [ 91.,  88.,  64.],\n",
            "        [ 87., 134.,  58.],\n",
            "        [102.,  43.,  37.],\n",
            "        [ 73.,  67.,  43.]]) , tensor([[119., 133.],\n",
            "        [ 81., 101.],\n",
            "        [119., 133.],\n",
            "        [ 22.,  37.],\n",
            "        [ 56.,  70.]])\n",
            "Epoch [830/1000], Loss: 0.387 ,tensor([[102.,  43.,  37.],\n",
            "        [ 87., 134.,  58.],\n",
            "        [ 69.,  96.,  70.],\n",
            "        [ 91.,  88.,  64.],\n",
            "        [ 87., 134.,  58.]]) , tensor([[ 22.,  37.],\n",
            "        [119., 133.],\n",
            "        [103., 119.],\n",
            "        [ 81., 101.],\n",
            "        [119., 133.]])\n",
            "Epoch [840/1000], Loss: 0.598 ,tensor([[ 87., 134.,  58.],\n",
            "        [ 69.,  96.,  70.],\n",
            "        [ 73.,  67.,  43.],\n",
            "        [ 73.,  67.,  43.],\n",
            "        [ 91.,  88.,  64.]]) , tensor([[119., 133.],\n",
            "        [103., 119.],\n",
            "        [ 56.,  70.],\n",
            "        [ 56.,  70.],\n",
            "        [ 81., 101.]])\n",
            "Epoch [850/1000], Loss: 0.606 ,tensor([[102.,  43.,  37.],\n",
            "        [ 91.,  88.,  64.],\n",
            "        [ 69.,  96.,  70.],\n",
            "        [102.,  43.,  37.],\n",
            "        [ 91.,  88.,  64.]]) , tensor([[ 22.,  37.],\n",
            "        [ 81., 101.],\n",
            "        [103., 119.],\n",
            "        [ 22.,  37.],\n",
            "        [ 81., 101.]])\n",
            "Epoch [860/1000], Loss: 0.514 ,tensor([[ 91.,  88.,  64.],\n",
            "        [102.,  43.,  37.],\n",
            "        [ 87., 134.,  58.],\n",
            "        [ 69.,  96.,  70.],\n",
            "        [ 73.,  67.,  43.]]) , tensor([[ 81., 101.],\n",
            "        [ 22.,  37.],\n",
            "        [119., 133.],\n",
            "        [103., 119.],\n",
            "        [ 56.,  70.]])\n",
            "Epoch [870/1000], Loss: 0.788 ,tensor([[73., 67., 43.],\n",
            "        [91., 88., 64.],\n",
            "        [69., 96., 70.],\n",
            "        [73., 67., 43.],\n",
            "        [91., 88., 64.]]) , tensor([[ 56.,  70.],\n",
            "        [ 81., 101.],\n",
            "        [103., 119.],\n",
            "        [ 56.,  70.],\n",
            "        [ 81., 101.]])\n",
            "Epoch [880/1000], Loss: 0.802 ,tensor([[69., 96., 70.],\n",
            "        [91., 88., 64.],\n",
            "        [73., 67., 43.],\n",
            "        [91., 88., 64.],\n",
            "        [73., 67., 43.]]) , tensor([[103., 119.],\n",
            "        [ 81., 101.],\n",
            "        [ 56.,  70.],\n",
            "        [ 81., 101.],\n",
            "        [ 56.,  70.]])\n",
            "Epoch [890/1000], Loss: 0.575 ,tensor([[ 91.,  88.,  64.],\n",
            "        [102.,  43.,  37.],\n",
            "        [ 73.,  67.,  43.],\n",
            "        [ 91.,  88.,  64.],\n",
            "        [ 87., 134.,  58.]]) , tensor([[ 81., 101.],\n",
            "        [ 22.,  37.],\n",
            "        [ 56.,  70.],\n",
            "        [ 81., 101.],\n",
            "        [119., 133.]])\n",
            "Epoch [900/1000], Loss: 0.686 ,tensor([[ 69.,  96.,  70.],\n",
            "        [102.,  43.,  37.],\n",
            "        [ 91.,  88.,  64.],\n",
            "        [ 73.,  67.,  43.],\n",
            "        [ 91.,  88.,  64.]]) , tensor([[103., 119.],\n",
            "        [ 22.,  37.],\n",
            "        [ 81., 101.],\n",
            "        [ 56.,  70.],\n",
            "        [ 81., 101.]])\n",
            "Epoch [910/1000], Loss: 0.59 ,tensor([[ 73.,  67.,  43.],\n",
            "        [102.,  43.,  37.],\n",
            "        [ 69.,  96.,  70.],\n",
            "        [ 91.,  88.,  64.],\n",
            "        [102.,  43.,  37.]]) , tensor([[ 56.,  70.],\n",
            "        [ 22.,  37.],\n",
            "        [103., 119.],\n",
            "        [ 81., 101.],\n",
            "        [ 22.,  37.]])\n",
            "Epoch [920/1000], Loss: 0.376 ,tensor([[ 87., 134.,  58.],\n",
            "        [ 73.,  67.,  43.],\n",
            "        [ 69.,  96.,  70.],\n",
            "        [102.,  43.,  37.],\n",
            "        [ 87., 134.,  58.]]) , tensor([[119., 133.],\n",
            "        [ 56.,  70.],\n",
            "        [103., 119.],\n",
            "        [ 22.,  37.],\n",
            "        [119., 133.]])\n",
            "Epoch [930/1000], Loss: 0.403 ,tensor([[ 91.,  88.,  64.],\n",
            "        [ 87., 134.,  58.],\n",
            "        [ 87., 134.,  58.],\n",
            "        [ 73.,  67.,  43.],\n",
            "        [102.,  43.,  37.]]) , tensor([[ 81., 101.],\n",
            "        [119., 133.],\n",
            "        [119., 133.],\n",
            "        [ 56.,  70.],\n",
            "        [ 22.,  37.]])\n",
            "Epoch [940/1000], Loss: 0.475 ,tensor([[ 87., 134.,  58.],\n",
            "        [102.,  43.,  37.],\n",
            "        [ 91.,  88.,  64.],\n",
            "        [ 69.,  96.,  70.],\n",
            "        [102.,  43.,  37.]]) , tensor([[119., 133.],\n",
            "        [ 22.,  37.],\n",
            "        [ 81., 101.],\n",
            "        [103., 119.],\n",
            "        [ 22.,  37.]])\n",
            "Epoch [950/1000], Loss: 0.5 ,tensor([[ 73.,  67.,  43.],\n",
            "        [102.,  43.,  37.],\n",
            "        [ 73.,  67.,  43.],\n",
            "        [ 69.,  96.,  70.],\n",
            "        [ 87., 134.,  58.]]) , tensor([[ 56.,  70.],\n",
            "        [ 22.,  37.],\n",
            "        [ 56.,  70.],\n",
            "        [103., 119.],\n",
            "        [119., 133.]])\n",
            "Epoch [960/1000], Loss: 0.458 ,tensor([[ 87., 134.,  58.],\n",
            "        [ 73.,  67.,  43.],\n",
            "        [102.,  43.,  37.],\n",
            "        [102.,  43.,  37.],\n",
            "        [ 73.,  67.,  43.]]) , tensor([[119., 133.],\n",
            "        [ 56.,  70.],\n",
            "        [ 22.,  37.],\n",
            "        [ 22.,  37.],\n",
            "        [ 56.,  70.]])\n",
            "Epoch [970/1000], Loss: 0.791 ,tensor([[91., 88., 64.],\n",
            "        [73., 67., 43.],\n",
            "        [73., 67., 43.],\n",
            "        [69., 96., 70.],\n",
            "        [91., 88., 64.]]) , tensor([[ 81., 101.],\n",
            "        [ 56.,  70.],\n",
            "        [ 56.,  70.],\n",
            "        [103., 119.],\n",
            "        [ 81., 101.]])\n",
            "Epoch [980/1000], Loss: 0.646 ,tensor([[102.,  43.,  37.],\n",
            "        [ 91.,  88.,  64.],\n",
            "        [ 69.,  96.,  70.],\n",
            "        [ 69.,  96.,  70.],\n",
            "        [ 91.,  88.,  64.]]) , tensor([[ 22.,  37.],\n",
            "        [ 81., 101.],\n",
            "        [103., 119.],\n",
            "        [103., 119.],\n",
            "        [ 81., 101.]])\n",
            "Epoch [990/1000], Loss: 0.422 ,tensor([[102.,  43.,  37.],\n",
            "        [102.,  43.,  37.],\n",
            "        [ 91.,  88.,  64.],\n",
            "        [ 87., 134.,  58.],\n",
            "        [102.,  43.,  37.]]) , tensor([[ 22.,  37.],\n",
            "        [ 22.,  37.],\n",
            "        [ 81., 101.],\n",
            "        [119., 133.],\n",
            "        [ 22.,  37.]])\n",
            "Epoch [1000/1000], Loss: 0.554 ,tensor([[ 87., 134.,  58.],\n",
            "        [ 91.,  88.,  64.],\n",
            "        [ 73.,  67.,  43.],\n",
            "        [ 69.,  96.,  70.],\n",
            "        [ 69.,  96.,  70.]]) , tensor([[119., 133.],\n",
            "        [ 81., 101.],\n",
            "        [ 56.,  70.],\n",
            "        [103., 119.],\n",
            "        [103., 119.]])\n"
          ]
        }
      ]
    },
    {
      "cell_type": "code",
      "source": [
        "# 2\n",
        "model2 = nn.Linear(3,2)\n",
        "print(model2.weight)\n",
        "print(model2.bias)\n",
        "opt2 = torch.optim.SGD(model2.parameters(), lr=0.1)\n",
        "fit(250, model2, loss_fn, opt2, train_dl)\n",
        "preds = model2(inputs)\n",
        "print(preds)\n",
        "print(targets)\n",
        "from sklearn.metrics import mean_squared_error\n",
        "# print(mean_squared_error(targets.detach().numpy() ,preds.detach().numpy() ))"
      ],
      "metadata": {
        "colab": {
          "base_uri": "https://localhost:8080/"
        },
        "id": "9INJuryRk5YS",
        "outputId": "e5eaa6e4-9ad5-441d-eda3-68bcef2fc622"
      },
      "execution_count": null,
      "outputs": [
        {
          "output_type": "stream",
          "name": "stdout",
          "text": [
            "Parameter containing:\n",
            "tensor([[ 0.1424, -0.2777,  0.5243],\n",
            "        [-0.1664,  0.5662, -0.4234]], requires_grad=True)\n",
            "Parameter containing:\n",
            "tensor([-0.4654,  0.0177], requires_grad=True)\n",
            "Epoch [10/250], Loss: nan ,tensor([[ 69.,  96.,  70.],\n",
            "        [ 87., 134.,  58.],\n",
            "        [ 69.,  96.,  70.],\n",
            "        [ 91.,  88.,  64.],\n",
            "        [ 73.,  67.,  43.]]) , tensor([[103., 119.],\n",
            "        [119., 133.],\n",
            "        [103., 119.],\n",
            "        [ 81., 101.],\n",
            "        [ 56.,  70.]])\n",
            "Epoch [20/250], Loss: nan ,tensor([[ 91.,  88.,  64.],\n",
            "        [102.,  43.,  37.],\n",
            "        [ 87., 134.,  58.],\n",
            "        [ 69.,  96.,  70.],\n",
            "        [102.,  43.,  37.]]) , tensor([[ 81., 101.],\n",
            "        [ 22.,  37.],\n",
            "        [119., 133.],\n",
            "        [103., 119.],\n",
            "        [ 22.,  37.]])\n",
            "Epoch [30/250], Loss: nan ,tensor([[91., 88., 64.],\n",
            "        [69., 96., 70.],\n",
            "        [91., 88., 64.],\n",
            "        [73., 67., 43.],\n",
            "        [73., 67., 43.]]) , tensor([[ 81., 101.],\n",
            "        [103., 119.],\n",
            "        [ 81., 101.],\n",
            "        [ 56.,  70.],\n",
            "        [ 56.,  70.]])\n",
            "Epoch [40/250], Loss: nan ,tensor([[102.,  43.,  37.],\n",
            "        [ 91.,  88.,  64.],\n",
            "        [ 69.,  96.,  70.],\n",
            "        [ 73.,  67.,  43.],\n",
            "        [102.,  43.,  37.]]) , tensor([[ 22.,  37.],\n",
            "        [ 81., 101.],\n",
            "        [103., 119.],\n",
            "        [ 56.,  70.],\n",
            "        [ 22.,  37.]])\n",
            "Epoch [50/250], Loss: nan ,tensor([[102.,  43.,  37.],\n",
            "        [ 69.,  96.,  70.],\n",
            "        [ 69.,  96.,  70.],\n",
            "        [ 69.,  96.,  70.],\n",
            "        [ 73.,  67.,  43.]]) , tensor([[ 22.,  37.],\n",
            "        [103., 119.],\n",
            "        [103., 119.],\n",
            "        [103., 119.],\n",
            "        [ 56.,  70.]])\n",
            "Epoch [60/250], Loss: nan ,tensor([[102.,  43.,  37.],\n",
            "        [ 87., 134.,  58.],\n",
            "        [102.,  43.,  37.],\n",
            "        [ 91.,  88.,  64.],\n",
            "        [ 69.,  96.,  70.]]) , tensor([[ 22.,  37.],\n",
            "        [119., 133.],\n",
            "        [ 22.,  37.],\n",
            "        [ 81., 101.],\n",
            "        [103., 119.]])\n",
            "Epoch [70/250], Loss: nan ,tensor([[ 73.,  67.,  43.],\n",
            "        [102.,  43.,  37.],\n",
            "        [102.,  43.,  37.],\n",
            "        [ 69.,  96.,  70.],\n",
            "        [ 91.,  88.,  64.]]) , tensor([[ 56.,  70.],\n",
            "        [ 22.,  37.],\n",
            "        [ 22.,  37.],\n",
            "        [103., 119.],\n",
            "        [ 81., 101.]])\n",
            "Epoch [80/250], Loss: nan ,tensor([[ 87., 134.,  58.],\n",
            "        [ 73.,  67.,  43.],\n",
            "        [ 91.,  88.,  64.],\n",
            "        [ 91.,  88.,  64.],\n",
            "        [ 73.,  67.,  43.]]) , tensor([[119., 133.],\n",
            "        [ 56.,  70.],\n",
            "        [ 81., 101.],\n",
            "        [ 81., 101.],\n",
            "        [ 56.,  70.]])\n",
            "Epoch [90/250], Loss: nan ,tensor([[ 73.,  67.,  43.],\n",
            "        [ 87., 134.,  58.],\n",
            "        [ 87., 134.,  58.],\n",
            "        [ 73.,  67.,  43.],\n",
            "        [102.,  43.,  37.]]) , tensor([[ 56.,  70.],\n",
            "        [119., 133.],\n",
            "        [119., 133.],\n",
            "        [ 56.,  70.],\n",
            "        [ 22.,  37.]])\n",
            "Epoch [100/250], Loss: nan ,tensor([[ 91.,  88.,  64.],\n",
            "        [102.,  43.,  37.],\n",
            "        [ 73.,  67.,  43.],\n",
            "        [ 87., 134.,  58.],\n",
            "        [102.,  43.,  37.]]) , tensor([[ 81., 101.],\n",
            "        [ 22.,  37.],\n",
            "        [ 56.,  70.],\n",
            "        [119., 133.],\n",
            "        [ 22.,  37.]])\n",
            "Epoch [110/250], Loss: nan ,tensor([[ 69.,  96.,  70.],\n",
            "        [ 73.,  67.,  43.],\n",
            "        [ 91.,  88.,  64.],\n",
            "        [ 69.,  96.,  70.],\n",
            "        [ 87., 134.,  58.]]) , tensor([[103., 119.],\n",
            "        [ 56.,  70.],\n",
            "        [ 81., 101.],\n",
            "        [103., 119.],\n",
            "        [119., 133.]])\n",
            "Epoch [120/250], Loss: nan ,tensor([[102.,  43.,  37.],\n",
            "        [ 91.,  88.,  64.],\n",
            "        [ 69.,  96.,  70.],\n",
            "        [ 87., 134.,  58.],\n",
            "        [ 69.,  96.,  70.]]) , tensor([[ 22.,  37.],\n",
            "        [ 81., 101.],\n",
            "        [103., 119.],\n",
            "        [119., 133.],\n",
            "        [103., 119.]])\n",
            "Epoch [130/250], Loss: nan ,tensor([[69., 96., 70.],\n",
            "        [73., 67., 43.],\n",
            "        [73., 67., 43.],\n",
            "        [69., 96., 70.],\n",
            "        [91., 88., 64.]]) , tensor([[103., 119.],\n",
            "        [ 56.,  70.],\n",
            "        [ 56.,  70.],\n",
            "        [103., 119.],\n",
            "        [ 81., 101.]])\n",
            "Epoch [140/250], Loss: nan ,tensor([[ 69.,  96.,  70.],\n",
            "        [ 73.,  67.,  43.],\n",
            "        [102.,  43.,  37.],\n",
            "        [ 87., 134.,  58.],\n",
            "        [ 73.,  67.,  43.]]) , tensor([[103., 119.],\n",
            "        [ 56.,  70.],\n",
            "        [ 22.,  37.],\n",
            "        [119., 133.],\n",
            "        [ 56.,  70.]])\n",
            "Epoch [150/250], Loss: nan ,tensor([[ 73.,  67.,  43.],\n",
            "        [102.,  43.,  37.],\n",
            "        [ 87., 134.,  58.],\n",
            "        [ 91.,  88.,  64.],\n",
            "        [ 73.,  67.,  43.]]) , tensor([[ 56.,  70.],\n",
            "        [ 22.,  37.],\n",
            "        [119., 133.],\n",
            "        [ 81., 101.],\n",
            "        [ 56.,  70.]])\n",
            "Epoch [160/250], Loss: nan ,tensor([[ 91.,  88.,  64.],\n",
            "        [ 87., 134.,  58.],\n",
            "        [ 91.,  88.,  64.],\n",
            "        [ 73.,  67.,  43.],\n",
            "        [ 69.,  96.,  70.]]) , tensor([[ 81., 101.],\n",
            "        [119., 133.],\n",
            "        [ 81., 101.],\n",
            "        [ 56.,  70.],\n",
            "        [103., 119.]])\n",
            "Epoch [170/250], Loss: nan ,tensor([[102.,  43.,  37.],\n",
            "        [102.,  43.,  37.],\n",
            "        [ 73.,  67.,  43.],\n",
            "        [ 87., 134.,  58.],\n",
            "        [ 87., 134.,  58.]]) , tensor([[ 22.,  37.],\n",
            "        [ 22.,  37.],\n",
            "        [ 56.,  70.],\n",
            "        [119., 133.],\n",
            "        [119., 133.]])\n",
            "Epoch [180/250], Loss: nan ,tensor([[102.,  43.,  37.],\n",
            "        [ 73.,  67.,  43.],\n",
            "        [ 87., 134.,  58.],\n",
            "        [ 73.,  67.,  43.],\n",
            "        [ 91.,  88.,  64.]]) , tensor([[ 22.,  37.],\n",
            "        [ 56.,  70.],\n",
            "        [119., 133.],\n",
            "        [ 56.,  70.],\n",
            "        [ 81., 101.]])\n",
            "Epoch [190/250], Loss: nan ,tensor([[ 87., 134.,  58.],\n",
            "        [ 69.,  96.,  70.],\n",
            "        [ 91.,  88.,  64.],\n",
            "        [ 91.,  88.,  64.],\n",
            "        [ 91.,  88.,  64.]]) , tensor([[119., 133.],\n",
            "        [103., 119.],\n",
            "        [ 81., 101.],\n",
            "        [ 81., 101.],\n",
            "        [ 81., 101.]])\n",
            "Epoch [200/250], Loss: nan ,tensor([[ 87., 134.,  58.],\n",
            "        [ 91.,  88.,  64.],\n",
            "        [102.,  43.,  37.],\n",
            "        [ 87., 134.,  58.],\n",
            "        [ 87., 134.,  58.]]) , tensor([[119., 133.],\n",
            "        [ 81., 101.],\n",
            "        [ 22.,  37.],\n",
            "        [119., 133.],\n",
            "        [119., 133.]])\n",
            "Epoch [210/250], Loss: nan ,tensor([[ 91.,  88.,  64.],\n",
            "        [ 87., 134.,  58.],\n",
            "        [ 73.,  67.,  43.],\n",
            "        [ 73.,  67.,  43.],\n",
            "        [102.,  43.,  37.]]) , tensor([[ 81., 101.],\n",
            "        [119., 133.],\n",
            "        [ 56.,  70.],\n",
            "        [ 56.,  70.],\n",
            "        [ 22.,  37.]])\n",
            "Epoch [220/250], Loss: nan ,tensor([[102.,  43.,  37.],\n",
            "        [ 91.,  88.,  64.],\n",
            "        [ 69.,  96.,  70.],\n",
            "        [ 73.,  67.,  43.],\n",
            "        [ 87., 134.,  58.]]) , tensor([[ 22.,  37.],\n",
            "        [ 81., 101.],\n",
            "        [103., 119.],\n",
            "        [ 56.,  70.],\n",
            "        [119., 133.]])\n",
            "Epoch [230/250], Loss: nan ,tensor([[69., 96., 70.],\n",
            "        [69., 96., 70.],\n",
            "        [69., 96., 70.],\n",
            "        [73., 67., 43.],\n",
            "        [91., 88., 64.]]) , tensor([[103., 119.],\n",
            "        [103., 119.],\n",
            "        [103., 119.],\n",
            "        [ 56.,  70.],\n",
            "        [ 81., 101.]])\n",
            "Epoch [240/250], Loss: nan ,tensor([[ 69.,  96.,  70.],\n",
            "        [102.,  43.,  37.],\n",
            "        [ 73.,  67.,  43.],\n",
            "        [ 91.,  88.,  64.],\n",
            "        [102.,  43.,  37.]]) , tensor([[103., 119.],\n",
            "        [ 22.,  37.],\n",
            "        [ 56.,  70.],\n",
            "        [ 81., 101.],\n",
            "        [ 22.,  37.]])\n",
            "Epoch [250/250], Loss: nan ,tensor([[102.,  43.,  37.],\n",
            "        [ 73.,  67.,  43.],\n",
            "        [ 69.,  96.,  70.],\n",
            "        [ 91.,  88.,  64.],\n",
            "        [ 87., 134.,  58.]]) , tensor([[ 22.,  37.],\n",
            "        [ 56.,  70.],\n",
            "        [103., 119.],\n",
            "        [ 81., 101.],\n",
            "        [119., 133.]])\n",
            "tensor([[nan, nan],\n",
            "        [nan, nan],\n",
            "        [nan, nan],\n",
            "        [nan, nan],\n",
            "        [nan, nan],\n",
            "        [nan, nan],\n",
            "        [nan, nan],\n",
            "        [nan, nan],\n",
            "        [nan, nan],\n",
            "        [nan, nan],\n",
            "        [nan, nan],\n",
            "        [nan, nan],\n",
            "        [nan, nan],\n",
            "        [nan, nan],\n",
            "        [nan, nan]], grad_fn=<AddmmBackward0>)\n",
            "tensor([[ 56.,  70.],\n",
            "        [ 81., 101.],\n",
            "        [119., 133.],\n",
            "        [ 22.,  37.],\n",
            "        [103., 119.],\n",
            "        [ 56.,  70.],\n",
            "        [ 81., 101.],\n",
            "        [119., 133.],\n",
            "        [ 22.,  37.],\n",
            "        [103., 119.],\n",
            "        [ 56.,  70.],\n",
            "        [ 81., 101.],\n",
            "        [119., 133.],\n",
            "        [ 22.,  37.],\n",
            "        [103., 119.]])\n"
          ]
        }
      ]
    },
    {
      "cell_type": "code",
      "source": [
        "# 3\n",
        "model3 = nn.Linear(3,2)\n",
        "opt3 = torch.optim.SGD(model3.parameters(), lr=0.0000001)\n",
        "fit(250, model3, loss_fn, opt3, train_dl)\n",
        "preds = model3(inputs)\n",
        "print(preds)\n",
        "print(targets)\n",
        "from sklearn.metrics import mean_squared_error\n",
        "print(mean_squared_error(targets.detach().numpy(),preds.detach().numpy()))"
      ],
      "metadata": {
        "colab": {
          "base_uri": "https://localhost:8080/"
        },
        "id": "eKqEd0oUk5Vq",
        "outputId": "08ad07a3-6bc4-4d24-a3a4-f499501a84a8"
      },
      "execution_count": null,
      "outputs": [
        {
          "output_type": "stream",
          "name": "stdout",
          "text": [
            "Epoch [10/250], Loss: 11370.034 ,tensor([[102.,  43.,  37.],\n",
            "        [ 91.,  88.,  64.],\n",
            "        [ 73.,  67.,  43.],\n",
            "        [ 73.,  67.,  43.],\n",
            "        [ 69.,  96.,  70.]]) , tensor([[ 22.,  37.],\n",
            "        [ 81., 101.],\n",
            "        [ 56.,  70.],\n",
            "        [ 56.,  70.],\n",
            "        [103., 119.]])\n",
            "Epoch [20/250], Loss: 10015.724 ,tensor([[73., 67., 43.],\n",
            "        [91., 88., 64.],\n",
            "        [73., 67., 43.],\n",
            "        [73., 67., 43.],\n",
            "        [91., 88., 64.]]) , tensor([[ 56.,  70.],\n",
            "        [ 81., 101.],\n",
            "        [ 56.,  70.],\n",
            "        [ 56.,  70.],\n",
            "        [ 81., 101.]])\n",
            "Epoch [30/250], Loss: 14150.841 ,tensor([[ 73.,  67.,  43.],\n",
            "        [ 69.,  96.,  70.],\n",
            "        [ 87., 134.,  58.],\n",
            "        [ 87., 134.,  58.],\n",
            "        [102.,  43.,  37.]]) , tensor([[ 56.,  70.],\n",
            "        [103., 119.],\n",
            "        [119., 133.],\n",
            "        [119., 133.],\n",
            "        [ 22.,  37.]])\n",
            "Epoch [40/250], Loss: 9507.54 ,tensor([[ 73.,  67.,  43.],\n",
            "        [ 69.,  96.,  70.],\n",
            "        [102.,  43.,  37.],\n",
            "        [ 91.,  88.,  64.],\n",
            "        [ 91.,  88.,  64.]]) , tensor([[ 56.,  70.],\n",
            "        [103., 119.],\n",
            "        [ 22.,  37.],\n",
            "        [ 81., 101.],\n",
            "        [ 81., 101.]])\n",
            "Epoch [50/250], Loss: 5692.919 ,tensor([[102.,  43.,  37.],\n",
            "        [ 73.,  67.,  43.],\n",
            "        [ 91.,  88.,  64.],\n",
            "        [ 91.,  88.,  64.],\n",
            "        [102.,  43.,  37.]]) , tensor([[ 22.,  37.],\n",
            "        [ 56.,  70.],\n",
            "        [ 81., 101.],\n",
            "        [ 81., 101.],\n",
            "        [ 22.,  37.]])\n",
            "Epoch [60/250], Loss: 10561.372 ,tensor([[102.,  43.,  37.],\n",
            "        [ 87., 134.,  58.],\n",
            "        [ 87., 134.,  58.],\n",
            "        [ 91.,  88.,  64.],\n",
            "        [ 91.,  88.,  64.]]) , tensor([[ 22.,  37.],\n",
            "        [119., 133.],\n",
            "        [119., 133.],\n",
            "        [ 81., 101.],\n",
            "        [ 81., 101.]])\n",
            "Epoch [70/250], Loss: 8244.381 ,tensor([[ 91.,  88.,  64.],\n",
            "        [ 69.,  96.,  70.],\n",
            "        [ 87., 134.,  58.],\n",
            "        [ 73.,  67.,  43.],\n",
            "        [102.,  43.,  37.]]) , tensor([[ 81., 101.],\n",
            "        [103., 119.],\n",
            "        [119., 133.],\n",
            "        [ 56.,  70.],\n",
            "        [ 22.,  37.]])\n",
            "Epoch [80/250], Loss: 10905.158 ,tensor([[ 91.,  88.,  64.],\n",
            "        [ 91.,  88.,  64.],\n",
            "        [ 87., 134.,  58.],\n",
            "        [ 87., 134.,  58.],\n",
            "        [ 69.,  96.,  70.]]) , tensor([[ 81., 101.],\n",
            "        [ 81., 101.],\n",
            "        [119., 133.],\n",
            "        [119., 133.],\n",
            "        [103., 119.]])\n",
            "Epoch [90/250], Loss: 6182.573 ,tensor([[73., 67., 43.],\n",
            "        [91., 88., 64.],\n",
            "        [73., 67., 43.],\n",
            "        [91., 88., 64.],\n",
            "        [69., 96., 70.]]) , tensor([[ 56.,  70.],\n",
            "        [ 81., 101.],\n",
            "        [ 56.,  70.],\n",
            "        [ 81., 101.],\n",
            "        [103., 119.]])\n",
            "Epoch [100/250], Loss: 8302.591 ,tensor([[ 87., 134.,  58.],\n",
            "        [ 87., 134.,  58.],\n",
            "        [ 73.,  67.,  43.],\n",
            "        [ 91.,  88.,  64.],\n",
            "        [ 69.,  96.,  70.]]) , tensor([[119., 133.],\n",
            "        [119., 133.],\n",
            "        [ 56.,  70.],\n",
            "        [ 81., 101.],\n",
            "        [103., 119.]])\n",
            "Epoch [110/250], Loss: 6752.433 ,tensor([[ 87., 134.,  58.],\n",
            "        [ 87., 134.,  58.],\n",
            "        [ 91.,  88.,  64.],\n",
            "        [ 91.,  88.,  64.],\n",
            "        [ 73.,  67.,  43.]]) , tensor([[119., 133.],\n",
            "        [119., 133.],\n",
            "        [ 81., 101.],\n",
            "        [ 81., 101.],\n",
            "        [ 56.,  70.]])\n",
            "Epoch [120/250], Loss: 3830.85 ,tensor([[ 69.,  96.,  70.],\n",
            "        [102.,  43.,  37.],\n",
            "        [ 91.,  88.,  64.],\n",
            "        [102.,  43.,  37.],\n",
            "        [ 91.,  88.,  64.]]) , tensor([[103., 119.],\n",
            "        [ 22.,  37.],\n",
            "        [ 81., 101.],\n",
            "        [ 22.,  37.],\n",
            "        [ 81., 101.]])\n",
            "Epoch [130/250], Loss: 4142.87 ,tensor([[73., 67., 43.],\n",
            "        [91., 88., 64.],\n",
            "        [73., 67., 43.],\n",
            "        [69., 96., 70.],\n",
            "        [91., 88., 64.]]) , tensor([[ 56.,  70.],\n",
            "        [ 81., 101.],\n",
            "        [ 56.,  70.],\n",
            "        [103., 119.],\n",
            "        [ 81., 101.]])\n",
            "Epoch [140/250], Loss: 1793.312 ,tensor([[ 73.,  67.,  43.],\n",
            "        [ 91.,  88.,  64.],\n",
            "        [ 73.,  67.,  43.],\n",
            "        [102.,  43.,  37.],\n",
            "        [ 73.,  67.,  43.]]) , tensor([[ 56.,  70.],\n",
            "        [ 81., 101.],\n",
            "        [ 56.,  70.],\n",
            "        [ 22.,  37.],\n",
            "        [ 56.,  70.]])\n",
            "Epoch [150/250], Loss: 2887.565 ,tensor([[102.,  43.,  37.],\n",
            "        [ 87., 134.,  58.],\n",
            "        [ 91.,  88.,  64.],\n",
            "        [ 91.,  88.,  64.],\n",
            "        [102.,  43.,  37.]]) , tensor([[ 22.,  37.],\n",
            "        [119., 133.],\n",
            "        [ 81., 101.],\n",
            "        [ 81., 101.],\n",
            "        [ 22.,  37.]])\n",
            "Epoch [160/250], Loss: 3073.231 ,tensor([[ 87., 134.,  58.],\n",
            "        [ 87., 134.,  58.],\n",
            "        [ 73.,  67.,  43.],\n",
            "        [102.,  43.,  37.],\n",
            "        [ 73.,  67.,  43.]]) , tensor([[119., 133.],\n",
            "        [119., 133.],\n",
            "        [ 56.,  70.],\n",
            "        [ 22.,  37.],\n",
            "        [ 56.,  70.]])\n",
            "Epoch [170/250], Loss: 3711.911 ,tensor([[ 87., 134.,  58.],\n",
            "        [ 87., 134.,  58.],\n",
            "        [ 91.,  88.,  64.],\n",
            "        [ 73.,  67.,  43.],\n",
            "        [ 91.,  88.,  64.]]) , tensor([[119., 133.],\n",
            "        [119., 133.],\n",
            "        [ 81., 101.],\n",
            "        [ 56.,  70.],\n",
            "        [ 81., 101.]])\n",
            "Epoch [180/250], Loss: 3370.357 ,tensor([[ 87., 134.,  58.],\n",
            "        [102.,  43.,  37.],\n",
            "        [ 69.,  96.,  70.],\n",
            "        [102.,  43.,  37.],\n",
            "        [ 69.,  96.,  70.]]) , tensor([[119., 133.],\n",
            "        [ 22.,  37.],\n",
            "        [103., 119.],\n",
            "        [ 22.,  37.],\n",
            "        [103., 119.]])\n",
            "Epoch [190/250], Loss: 1578.81 ,tensor([[ 73.,  67.,  43.],\n",
            "        [ 69.,  96.,  70.],\n",
            "        [ 73.,  67.,  43.],\n",
            "        [102.,  43.,  37.],\n",
            "        [ 73.,  67.,  43.]]) , tensor([[ 56.,  70.],\n",
            "        [103., 119.],\n",
            "        [ 56.,  70.],\n",
            "        [ 22.,  37.],\n",
            "        [ 56.,  70.]])\n",
            "Epoch [200/250], Loss: 1169.154 ,tensor([[ 91.,  88.,  64.],\n",
            "        [ 91.,  88.,  64.],\n",
            "        [102.,  43.,  37.],\n",
            "        [ 73.,  67.,  43.],\n",
            "        [ 73.,  67.,  43.]]) , tensor([[ 81., 101.],\n",
            "        [ 81., 101.],\n",
            "        [ 22.,  37.],\n",
            "        [ 56.,  70.],\n",
            "        [ 56.,  70.]])\n",
            "Epoch [210/250], Loss: 2026.469 ,tensor([[ 73.,  67.,  43.],\n",
            "        [102.,  43.,  37.],\n",
            "        [ 69.,  96.,  70.],\n",
            "        [ 87., 134.,  58.],\n",
            "        [ 73.,  67.,  43.]]) , tensor([[ 56.,  70.],\n",
            "        [ 22.,  37.],\n",
            "        [103., 119.],\n",
            "        [119., 133.],\n",
            "        [ 56.,  70.]])\n",
            "Epoch [220/250], Loss: 1127.671 ,tensor([[ 73.,  67.,  43.],\n",
            "        [ 87., 134.,  58.],\n",
            "        [ 73.,  67.,  43.],\n",
            "        [102.,  43.,  37.],\n",
            "        [ 73.,  67.,  43.]]) , tensor([[ 56.,  70.],\n",
            "        [119., 133.],\n",
            "        [ 56.,  70.],\n",
            "        [ 22.,  37.],\n",
            "        [ 56.,  70.]])\n",
            "Epoch [230/250], Loss: 1983.074 ,tensor([[ 73.,  67.,  43.],\n",
            "        [ 73.,  67.,  43.],\n",
            "        [ 87., 134.,  58.],\n",
            "        [ 91.,  88.,  64.],\n",
            "        [ 69.,  96.,  70.]]) , tensor([[ 56.,  70.],\n",
            "        [ 56.,  70.],\n",
            "        [119., 133.],\n",
            "        [ 81., 101.],\n",
            "        [103., 119.]])\n",
            "Epoch [240/250], Loss: 1135.505 ,tensor([[ 87., 134.,  58.],\n",
            "        [ 73.,  67.,  43.],\n",
            "        [102.,  43.,  37.],\n",
            "        [ 73.,  67.,  43.],\n",
            "        [ 91.,  88.,  64.]]) , tensor([[119., 133.],\n",
            "        [ 56.,  70.],\n",
            "        [ 22.,  37.],\n",
            "        [ 56.,  70.],\n",
            "        [ 81., 101.]])\n",
            "Epoch [250/250], Loss: 1370.097 ,tensor([[ 87., 134.,  58.],\n",
            "        [ 87., 134.,  58.],\n",
            "        [ 73.,  67.,  43.],\n",
            "        [ 73.,  67.,  43.],\n",
            "        [ 73.,  67.,  43.]]) , tensor([[119., 133.],\n",
            "        [119., 133.],\n",
            "        [ 56.,  70.],\n",
            "        [ 56.,  70.],\n",
            "        [ 56.,  70.]])\n",
            "tensor([[48.1355, 44.6319],\n",
            "        [62.4309, 55.0646],\n",
            "        [79.0370, 68.4080],\n",
            "        [45.8874, 51.1469],\n",
            "        [60.2280, 46.7508],\n",
            "        [48.1355, 44.6319],\n",
            "        [62.4309, 55.0646],\n",
            "        [79.0370, 68.4080],\n",
            "        [45.8874, 51.1469],\n",
            "        [60.2280, 46.7508],\n",
            "        [48.1355, 44.6319],\n",
            "        [62.4309, 55.0646],\n",
            "        [79.0370, 68.4080],\n",
            "        [45.8874, 51.1469],\n",
            "        [60.2280, 46.7508]], grad_fn=<AddmmBackward0>)\n",
            "tensor([[ 56.,  70.],\n",
            "        [ 81., 101.],\n",
            "        [119., 133.],\n",
            "        [ 22.,  37.],\n",
            "        [103., 119.],\n",
            "        [ 56.,  70.],\n",
            "        [ 81., 101.],\n",
            "        [119., 133.],\n",
            "        [ 22.,  37.],\n",
            "        [103., 119.],\n",
            "        [ 56.,  70.],\n",
            "        [ 81., 101.],\n",
            "        [119., 133.],\n",
            "        [ 22.,  37.],\n",
            "        [103., 119.]])\n",
            "1674.9562\n"
          ]
        }
      ]
    },
    {
      "cell_type": "code",
      "source": [
        "# 4\n",
        "preds = model(torch.FloatTensor([70,34,45]))\n",
        "preds"
      ],
      "metadata": {
        "colab": {
          "base_uri": "https://localhost:8080/"
        },
        "id": "S24Soe2-sbZ-",
        "outputId": "7da793ad-39e4-4c57-ab4c-e48e3ced9bb3"
      },
      "execution_count": null,
      "outputs": [
        {
          "output_type": "execute_result",
          "data": {
            "text/plain": [
              "tensor([31.7193, 46.6385], grad_fn=<AddBackward0>)"
            ]
          },
          "metadata": {},
          "execution_count": 280
        }
      ]
    }
  ]
}